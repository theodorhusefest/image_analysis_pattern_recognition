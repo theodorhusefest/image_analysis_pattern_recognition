{
 "cells": [
  {
   "cell_type": "markdown",
   "metadata": {},
   "source": [
    "# [IAPR 2020:][iapr2020] Lab 3 ‒  Classification\n",
    "\n",
    "**Author:** Theodor Tveit Husefest, Arlid Madshaven, Mathies Pollas Bjerg\n",
    "**Due date:** 08.05.2020\n",
    "\n",
    "[iapr2018]: https://github.com/LTS5/iapr-2018"
   ]
  },
  {
   "cell_type": "markdown",
   "metadata": {},
   "source": [
    "## Extract relevant data\n",
    "We first need to extract the `lab-03-data.tar.gz` archive.\n",
    "To this end, we use the [tarfile] module from the Python standard library.\n",
    "\n",
    "[tarfile]: https://docs.python.org/3.6/library/tarfile.html"
   ]
  },
  {
   "cell_type": "code",
   "execution_count": 2,
   "metadata": {},
   "outputs": [],
   "source": [
    "import tarfile\n",
    "import os\n",
    "import numpy as np\n",
    "import matplotlib.pyplot as plt\n",
    "import warnings\n",
    "warnings.filterwarnings('ignore')\n"
   ]
  },
  {
   "cell_type": "markdown",
   "metadata": {},
   "source": [
    "### MNIST \n",
    "*Add your implementation and discussion*"
   ]
  },
  {
   "cell_type": "code",
   "execution_count": 3,
   "metadata": {},
   "outputs": [],
   "source": [
    "import torch\n",
    "from torch import optim, nn\n",
    "import torch.nn.functional as F\n",
    "from torchvision import transforms, datasets\n",
    "import torch.utils.data as data"
   ]
  },
  {
   "cell_type": "code",
   "execution_count": 4,
   "metadata": {},
   "outputs": [],
   "source": [
    "def get_dataloaders(batch_size = 16, \n",
    "                    valid_size = 0.2,\n",
    "                    shuffle= True):\n",
    "    \"\"\"\n",
    "    Helper function to create online dataloaders to use in pytorch network.\n",
    "    \"\"\"\n",
    "    transform = transforms.Compose([transforms.RandomRotation(180),\n",
    "                                    transforms.ToTensor(), \n",
    "                                    transforms.Normalize((0.5), (0.5))])\n",
    "    train_dataset = datasets.MNIST('MNIST_data/', download= True, train= True, transform = transform)\n",
    "    \n",
    "    test_dataset = datasets.MNIST('MNIST_data/', download= True, train= False, transform = transform)\n",
    "    \n",
    "    num_train = len(train_dataset)\n",
    "    indicies = list(range(num_train))\n",
    "    split = int(np.floor(valid_size * num_train))\n",
    "    \n",
    "    if shuffle:\n",
    "        np.random.shuffle(indicies)\n",
    "        \n",
    "    train_ix, val_ix = indicies[split:], indicies[:split]\n",
    "    train_sampler = data.SubsetRandomSampler(train_ix)\n",
    "    val_sampler = data.SubsetRandomSampler(val_ix)\n",
    "    \n",
    "    train_loader = data.DataLoader(train_dataset, batch_size=batch_size, sampler= train_sampler)\n",
    "    val_loader = data.DataLoader(train_dataset, batch_size=batch_size, sampler= val_sampler)\n",
    "    test_loader = data.DataLoader(test_dataset, batch_size = batch_size)\n",
    "    return train_loader, val_loader, test_loader\n",
    "\n",
    "train_loader, val_loader, test_loader = get_dataloaders()\n",
    "\n",
    "\n"
   ]
  },
  {
   "cell_type": "code",
   "execution_count": 5,
   "metadata": {},
   "outputs": [],
   "source": [
    "class Net(torch.nn.Module):\n",
    "    def __init__(self):\n",
    "        super(Net, self,).__init__()\n",
    "        self.conv1 = nn.Conv2d(in_channels= 1, out_channels = 4, kernel_size= 3, padding= 1)\n",
    "        self.maxpool = nn.MaxPool2d(2, 2)\n",
    "        self.conv2 = nn.Conv2d(in_channels= 4, out_channels = 8, kernel_size= 3, padding= 1)\n",
    "        self.fc1 = nn.Linear(8*7*7, 100)\n",
    "        self.fc2 = nn.Linear(100, 10)\n",
    "        \n",
    "    def forward(self, x):\n",
    "        x = F.relu(self.conv1(x))\n",
    "        x = self.maxpool(x)\n",
    "        x = F.relu(self.conv2(x))\n",
    "        x = self.maxpool(x)\n",
    "        x = x.view(-1, 8*7*7)\n",
    "        x = F.relu(self.fc1(x))\n",
    "        x = self.fc2(x)\n",
    "        return x\n",
    "        \n",
    "    def predict(self, x):\n",
    "        logits = self.forward(x)\n",
    "        return F.softmax(x)\n",
    "    \n",
    "net = Net()"
   ]
  },
  {
   "cell_type": "code",
   "execution_count": 6,
   "metadata": {},
   "outputs": [],
   "source": [
    "def validate_on_dataloader(net, dataloader):\n",
    "    \"\"\"\n",
    "    Returns accuracy on a given dataloader\n",
    "    \"\"\"\n",
    "    net.eval()\n",
    "    correct = 0\n",
    "    total = 0\n",
    "    with torch.no_grad():    \n",
    "        for images, labels in val_loader:\n",
    "\n",
    "            output = net(images)\n",
    "            predicted = (F.softmax(output).data).max(1)[1]\n",
    "            correct += (labels == predicted).sum().item()\n",
    "            total += labels.size(0)\n",
    "\n",
    "    return 100*(correct/total)"
   ]
  },
  {
   "cell_type": "code",
   "execution_count": 7,
   "metadata": {},
   "outputs": [
    {
     "name": "stdout",
     "output_type": "stream",
     "text": [
      "--------------------------------------------------\n",
      "EPOCH 0.\n",
      "Accuracy on validation set 82.85833333333333\n",
      "Finished epoch after 21.574s\n",
      "Loss after epoch 0 was 2652.352029964328.\n",
      "--------------------------------------------------\n",
      "\n",
      "--------------------------------------------------\n",
      "EPOCH 1.\n",
      "Finished epoch after 19.299s\n",
      "Loss after epoch 1 was 1195.18766342476.\n",
      "--------------------------------------------------\n",
      "\n",
      "--------------------------------------------------\n",
      "EPOCH 2.\n",
      "Accuracy on validation set 91.65833333333333\n",
      "Finished epoch after 22.197s\n",
      "Loss after epoch 2 was 890.5126202148385.\n",
      "--------------------------------------------------\n",
      "\n",
      "--------------------------------------------------\n",
      "EPOCH 3.\n",
      "Finished epoch after 19.411s\n",
      "Loss after epoch 3 was 767.8573302775621.\n",
      "--------------------------------------------------\n",
      "\n",
      "--------------------------------------------------\n",
      "EPOCH 4.\n",
      "Accuracy on validation set 92.80000000000001\n",
      "Finished epoch after 21.888s\n",
      "Loss after epoch 4 was 680.3304076124914.\n",
      "--------------------------------------------------\n",
      "\n"
     ]
    }
   ],
   "source": [
    "import time\n",
    "\n",
    "epochs = 5\n",
    "eval_every = 2\n",
    "criterion = nn.CrossEntropyLoss()\n",
    "optimizer = optim.Adam(net.parameters(), lr = 0.001)\n",
    "\n",
    "for e in range(epochs):\n",
    "    epoch_loss = 0\n",
    "    accuracy = 0\n",
    "    tic = time.time()\n",
    "    net.train()\n",
    "    \n",
    "    print('--------------------------------------------------')\n",
    "    print('EPOCH {}.'.format(e))\n",
    "\n",
    "    \n",
    "    for images, labels in train_loader:\n",
    "        \n",
    "        optimizer.zero_grad()\n",
    "        \n",
    "        output = net(images)\n",
    "        loss = criterion(output, labels)\n",
    "        loss.backward()\n",
    "        \n",
    "        optimizer.step()\n",
    "        \n",
    "        epoch_loss += loss.item()\n",
    "    \n",
    "    if e % eval_every == 0:\n",
    "        accuracy = validate_on_dataloader(net, val_loader)\n",
    "        print('Accuracy on validation set {}'.format(accuracy))\n",
    "\n",
    "\n",
    "        \n",
    "    toc = time.time()\n",
    "    print('Finished epoch after {}s'.format(np.around(toc-tic, 3)))\n",
    "    print('Loss after epoch {} was {}.'.format(e, epoch_loss))\n",
    "    print('--------------------------------------------------\\n')\n",
    "    "
   ]
  },
  {
   "cell_type": "code",
   "execution_count": 8,
   "metadata": {},
   "outputs": [
    {
     "name": "stdout",
     "output_type": "stream",
     "text": [
      "Accuracy on testset: 93.25833333333333\n"
     ]
    }
   ],
   "source": [
    "test_accuracy = validate_on_dataloader(net, test_loader)\n",
    "\n",
    "print('Accuracy on testset:', test_accuracy)"
   ]
  },
  {
   "cell_type": "code",
   "execution_count": 102,
   "metadata": {},
   "outputs": [
    {
     "name": "stdout",
     "output_type": "stream",
     "text": [
      "Label: 9\n",
      "Predicted: 9\n"
     ]
    },
    {
     "data": {
      "image/png": "[encoded data removed]",
      "text/plain": [
       "<Figure size 432x288 with 1 Axes>"
      ]
     },
     "metadata": {
      "needs_background": "light"
     },
     "output_type": "display_data"
    }
   ],
   "source": [
    "dataiter = iter(test_loader)\n",
    "images, labels = dataiter.next()\n",
    "img_nr = np.random.randint(16, size = 1)\n",
    "img, label = images[img_nr], labels[img_nr]\n",
    "\n",
    "plt.imshow(img.resize(28,28), cmap = \"Greys\")\n",
    "print('Label:', label.item())\n",
    "\n",
    "output = net(img)\n",
    "pred = (F.softmax(output).data).max(1)[1]\n",
    "print('Predicted:', pred.item())"
   ]
  },
  {
   "cell_type": "markdown",
   "metadata": {},
   "source": [
    "---\n",
    "#### Thoughts on Task 2\n",
    "\n",
    "As the group had more experience in PyTorch we chose to use this to implement the neural net, and it gave quite good performance.  \n",
    "We see that the neural net is performing very good with quite low complexity, and if we were to add for example convolutional layers we would get even better performance.  \n",
    "Compared to lab 2 where we had to pick out features and tune our algos, this is a lot easier and is probably performing a lot better than we could manage by doing this manually.\n",
    "\n",
    "---"
   ]
  },
  {
   "cell_type": "code",
   "execution_count": 84,
   "metadata": {},
   "outputs": [],
   "source": [
    "def theshold_test_img(img):\n",
    "    img_mean = img.mean()\n",
    "    img[img < img_mean] = 0\n",
    "    img[img >= img_mean] = 255\n",
    "    return img\n"
   ]
  },
  {
   "cell_type": "code",
   "execution_count": 87,
   "metadata": {},
   "outputs": [
    {
     "name": "stdout",
     "output_type": "stream",
     "text": [
      "Predicted: 5\n"
     ]
    },
    {
     "data": {
      "image/png": "[encoded data removed]",
      "text/plain": [
       "<Figure size 432x288 with 1 Axes>"
      ]
     },
     "metadata": {
      "needs_background": "light"
     },
     "output_type": "display_data"
    }
   ],
   "source": [
    "import PIL\n",
    "from skimage.color import rgb2gray\n",
    "\n",
    "img = PIL.Image.open(\"./data/candidates/im27.png\")\n",
    "img = PIL.ImageOps.invert(img)\n",
    "\n",
    "img = img.resize((28, 28), PIL.Image.ANTIALIAS)\n",
    "img = np.asarray(img)\n",
    "img = rgb2gray(img)\n",
    "img = theshold_test_img(img)\n",
    "\n",
    "plt.imshow(img, cmap= \"Greys\")\n",
    "img = torch.from_numpy(img.astype(np.float32))\n",
    "img = img.unsqueeze(0)\n",
    "img = img.unsqueeze(0)\n",
    "output = net(img)\n",
    "pred = (F.softmax(output).data).max(1)[1]\n",
    "print('Predicted:', pred.item())"
   ]
  },
  {
   "cell_type": "code",
   "execution_count": null,
   "metadata": {},
   "outputs": [],
   "source": []
  }
 ],
 "metadata": {
  "kernelspec": {
   "display_name": "Python 3",
   "language": "python",
   "name": "python3"
  },
  "language_info": {
   "codemirror_mode": {
    "name": "ipython",
    "version": 3
   },
   "file_extension": ".py",
   "mimetype": "text/x-python",
   "name": "python",
   "nbconvert_exporter": "python",
   "pygments_lexer": "ipython3",
   "version": "3.7.6"
  }
 },
 "nbformat": 4,
 "nbformat_minor": 4
}
