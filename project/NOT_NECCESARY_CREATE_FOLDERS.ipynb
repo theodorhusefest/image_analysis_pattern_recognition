{
 "cells": [
  {
   "cell_type": "code",
   "execution_count": 2,
   "metadata": {},
   "outputs": [],
   "source": [
    "import numpy as np\n",
    "import pandas as pd\n",
    "import matplotlib.pyplot as plt\n",
    "from PIL import Image\n",
    "%load_ext autoreload\n",
    "%autoreload "
   ]
  },
  {
   "cell_type": "code",
   "execution_count": null,
   "metadata": {},
   "outputs": [],
   "source": [
    "labels = pd.read_csv('./data/hasyv2/hasy-data-labels.csv')"
   ]
  },
  {
   "cell_type": "code",
   "execution_count": null,
   "metadata": {},
   "outputs": [],
   "source": [
    "label_dict = {\"times\": 514, \"plus\": 196, \"minus\": 195, 'div': 526, 'eq': 621}\n",
    "rel_list = [514, 196, 195, 526, 621]"
   ]
  },
  {
   "cell_type": "code",
   "execution_count": null,
   "metadata": {},
   "outputs": [],
   "source": [
    "rel_labels = labels[labels.symbol_id.isin(rel_list)]\n",
    "rel_labels.head(3)"
   ]
  },
  {
   "cell_type": "code",
   "execution_count": null,
   "metadata": {},
   "outputs": [],
   "source": [
    "ROOTDIR = \"./data/hasyv2/\"\n",
    "\n",
    "img = np.asarray(Image.open(ROOTDIR + \"hasy-data/v2-05568.png\"))\n",
    "\n",
    "plt.imshow(img)\n",
    "img.shape"
   ]
  },
  {
   "cell_type": "code",
   "execution_count": null,
   "metadata": {},
   "outputs": [],
   "source": [
    "# Create datafolder\n",
    "import os\n",
    "import shutil\n",
    "from pathlib import Path\n",
    "HASY_DIR = \"./data/hasyv2/\"\n",
    "OPERATOR_DIR = \"./data/all_data/mul\"\n",
    "rename_map = {514: \"mul\", 196: \"plus\", 195: \"minus\", 526: \"div\", 621: \"eq\"}\n",
    "\n",
    "if not os.path.exists(OPERATOR_DIR):\n",
    "    os.makedirs(OPERATOR_DIR)\n",
    "\n",
    "minus = 0\n",
    "plus = 0\n",
    "mul = 0\n",
    "div = 0\n",
    "eq = 0\n",
    " \n",
    "\n",
    "current_label = 0\n",
    "for index, row in rel_labels.iterrows():\n",
    "    if current_label != row.symbol_id: \n",
    "        current_label = row.symbol_id\n",
    "    if rename_map[row.symbol_id] == \"mul\":\n",
    "        mul += 1\n",
    "        filename = \"{}_{}\".format(rename_map[row.symbol_id],mul)\n",
    "        old_path = HASY_DIR + row.path\n",
    "        new_path = \"{}/{}.png\".format(OPERATOR_DIR,filename)\n",
    "        shutil.copy(old_path, new_path)\n",
    "\n",
    "    \"\"\"\n",
    "    elif rename_map[row.symbol_id] == \"minus\":\n",
    "        minus += 1\n",
    "        filename = \"{}_{}\".format(rename_map[row.symbol_id],minus)\n",
    "    elif rename_map[row.symbol_id] == \"plys\":\n",
    "        mul += 1\n",
    "        filename = \"{}_{}\".format(rename_map[row.symbol_id],plus)\n",
    "    elif rename_map[row.symbol_id] == \"div\":\n",
    "        div += 1\n",
    "        filename = \"{}_{}\".format(rename_map[row.symbol_id],div)\n",
    "    elif rename_map[row.symbol_id] == \"eq\":\n",
    "        eq += 1\n",
    "        filename = \"{}_{}\".format(rename_map[row.symbol_id],eq)\n",
    "    \"\"\"\n",
    "\n",
    "\n",
    "    "
   ]
  },
  {
   "cell_type": "code",
   "execution_count": 3,
   "metadata": {},
   "outputs": [],
   "source": [
    "import os\n",
    "def update_datasheet(image_dir = \"./data/operators\"):\n",
    "    \"\"\" \n",
    "    Updates datasheet to fit current content of imagefolder \n",
    "    Filename must include correct label [plus, minus, mul, div, eq]\n",
    "    \"\"\"\n",
    "    print(\"Updating Datasheet\")\n",
    "    data = pd.DataFrame(columns = [\"path\", \"label\"])\n",
    "\n",
    "    i = 0\n",
    "    for file in os.listdir(image_dir):\n",
    "        if \"zero\" in file:\n",
    "            newrow = pd.DataFrame(columns = [\"path\", \"label\"],data = {\"path\": file, \"label\": 0}, index = [0])\n",
    "\n",
    "        elif \"one\" in file:\n",
    "            newrow = pd.DataFrame(columns = [\"path\", \"label\"],data = {\"path\": file, \"label\": 1}, index = [0])\n",
    "\n",
    "        elif \"two\" in file:\n",
    "            newrow = pd.DataFrame(columns = [\"path\", \"label\"],data = {\"path\": file, \"label\": 2}, index = [0])\n",
    "\n",
    "        elif \"three\" in file:\n",
    "            newrow = pd.DataFrame(columns = [\"path\", \"label\"],data = {\"path\": file, \"label\": 3}, index = [0])\n",
    "\n",
    "        elif \"four\" in file:\n",
    "            newrow = pd.DataFrame(columns = [\"path\", \"label\"],data = {\"path\": file, \"label\": 4}, index = [0])\n",
    "        \n",
    "        elif \"five\" in file:\n",
    "            newrow = pd.DataFrame(columns = [\"path\", \"label\"],data = {\"path\": file, \"label\": 5}, index = [0])\n",
    "            \n",
    "        elif \"six\" in file:\n",
    "            newrow = pd.DataFrame(columns = [\"path\", \"label\"],data = {\"path\": file, \"label\": 6}, index = [0])\n",
    "       \n",
    "        elif \"seven\" in file:\n",
    "            newrow = pd.DataFrame(columns = [\"path\", \"label\"],data = {\"path\": file, \"label\": 7}, index = [0]) \n",
    "                \n",
    "        elif \"eigth\" in file:\n",
    "            newrow = pd.DataFrame(columns = [\"path\", \"label\"],data = {\"path\": file, \"label\": 8}, index = [0])\n",
    "\n",
    "        elif \"nine\" in file:\n",
    "            newrow = pd.DataFrame(columns = [\"path\", \"label\"],data = {\"path\": file, \"label\": 9}, index = [0])\n",
    "        \n",
    "        elif \"plus\" in file:\n",
    "            newrow = pd.DataFrame(columns = [\"path\", \"label\"],data = {\"path\": file, \"label\": 10}, index = [0])\n",
    "            \n",
    "        elif \"minus\" in file:\n",
    "            newrow = pd.DataFrame(columns = [\"path\", \"label\"],data = {\"path\": file, \"label\": 11}, index = [0])\n",
    "       \n",
    "        elif \"mul\" in file:\n",
    "            newrow = pd.DataFrame(columns = [\"path\", \"label\"],data = {\"path\": file, \"label\": 12}, index = [0])\n",
    "        \n",
    "        elif \"div\" in file:\n",
    "            newrow = pd.DataFrame(columns = [\"path\", \"label\"],data = {\"path\": file, \"label\": 13}, index = [0])\n",
    "       \n",
    "        elif \"eq\" in file:\n",
    "            newrow = pd.DataFrame(columns = [\"path\", \"label\"],data = {\"path\": file, \"label\": 14}, index = [0])\n",
    "        i += 1\n",
    "        \n",
    "        data = data.append(newrow, ignore_index = True)\n",
    "        data = data.reset_index(drop=True)\n",
    "    data.to_csv(image_dir + \"/datasheet.csv\")"
   ]
  },
  {
   "cell_type": "code",
   "execution_count": 39,
   "metadata": {},
   "outputs": [
    {
     "name": "stdout",
     "output_type": "stream",
     "text": [
      "Updating Datasheet\n"
     ]
    }
   ],
   "source": [
    "#from importlib import reload\n",
    "#import utils\n",
    "#reload(utils)\n",
    "#from utils import update_datasheet\n",
    "update_datasheet(image_dir = \"./data/train_dil\")"
   ]
  },
  {
   "cell_type": "code",
   "execution_count": 13,
   "metadata": {},
   "outputs": [
    {
     "name": "stdout",
     "output_type": "stream",
     "text": [
      "rm: ./data/operators_test/.DS_Store: No such file or directory\n"
     ]
    }
   ],
   "source": [
    "\"\"\" Reshape to 45x45 \"\"\"\n",
    "basepath = \"./data/operators_test/\"\n",
    "!rm ./data/operators_test/.DS_Store\n",
    "for file in os.listdir(basepath):\n",
    "    image = Image.open(basepath+file)\n",
    "    image = image.resize((45,45), Image.ANTIALIAS)\n",
    "    image.save(basepath+file)\n"
   ]
  },
  {
   "cell_type": "code",
   "execution_count": 4,
   "metadata": {},
   "outputs": [],
   "source": [
    "import torch\n",
    "from skimage.transform import resize\n",
    "from skimage.color import rgb2gray\n",
    "\n",
    "def get_operators_from_original(filepath = \"./data/original_operators.png\"):\n",
    "    \"\"\"\n",
    "    Takes in filepath the original image with all operators\n",
    "    Returns each operator in 32x32 and greyscale\n",
    "    \"\"\"\n",
    "    operators = Image.open(filepath)\n",
    "    img = np.asarray(operators)\n",
    "    img_grey = rgb2gray(img)\n",
    "    \n",
    "    N = 316\n",
    "    plus = img[:, 0:N]\n",
    "    equals = img[:, N:2*N]\n",
    "    min_offset = 75\n",
    "    minus = img[:, 2*N + min_offset :3*N + min_offset]\n",
    "    div_offset = 125\n",
    "    div = img[:, 3*N + div_offset:4*N + div_offset]\n",
    "    mul_offset = 155\n",
    "    mul = img[:, 4*N + mul_offset:-1]\n",
    "    \n",
    "    operators = [plus, minus, div, mul, equals]\n",
    "    operators = [resize(operator, (45, 45)) for operator in operators]\n",
    "    operators = [rgb2gray(operator) for operator in operators]\n",
    "    op_tensors = [torch.from_numpy(operators[i].astype(np.float32)) for i in range(len(operators))]\n",
    "\n",
    "    return operators"
   ]
  },
  {
   "cell_type": "code",
   "execution_count": 5,
   "metadata": {},
   "outputs": [],
   "source": [
    "def add_rotated_operators(output_path='/data/train/'):\n",
    "    \"\"\"\n",
    "    Retrieves the original operators, rotates and puts back in train-folder\n",
    "    \"\"\"\n",
    "    operators = get_operators_from_original()\n",
    "    name_map = [\"plus\", \"minus\", \"div\", \"mul\", \"equals\"]\n",
    "    \n",
    "    for operator, name in zip(operators, name_map):\n",
    "        image = Image.fromarray(np.uint8(cm.Greys(operator)*255))\n",
    "\n",
    "        for deg in range(15,360,15):\n",
    "            rotated = image.rotate(deg, PIL.Image.NEAREST, expand = 1, fillcolor = (0, 0, 0))\n",
    "            rotated = rotated.resize((45,45), Image.ANTIALIAS)\n",
    "            rotated.save(\"{}{}_rot_{}.png\".format(output_path, name, deg))\n",
    "            \n",
    "add_rotated_operators(output_path=\"./data/orig_rot/\")"
   ]
  },
  {
   "cell_type": "code",
   "execution_count": null,
   "metadata": {},
   "outputs": [],
   "source": [
    "import matplotlib.pyplot as plt\n",
    "from PIL import Image\n",
    "import PIL\n",
    "\n",
    "basepath = \"./data/operators_test/\"\n",
    "original_images = [\"plus\", \"minus\", \"div\", \"eq\", \"mul\"]\n",
    " \n",
    "# Create an Image object from an Image\n",
    "for img in original_images:\n",
    "    \n",
    "    colorImage  = Image.open(\"{}{}.png\".format(basepath,img))\n",
    " \n",
    "    for deg in range(21, 360, 21):\n",
    "\n",
    "        rotated = colorImage.rotate(deg, PIL.Image.NEAREST, expand = 1, fillcolor = (255, 255, 255))\n",
    "        rotated = rotated.resize((45,45), Image.ANTIALIAS)\n",
    "        rotated.save(\"{}{}_rot_{}.png\".format(\"./data/operators_train/\",img, deg))\n"
   ]
  },
  {
   "cell_type": "code",
   "execution_count": null,
   "metadata": {},
   "outputs": [],
   "source": [
    "!rm ./data/all_data/plus/.DS_Store"
   ]
  },
  {
   "cell_type": "code",
   "execution_count": 12,
   "metadata": {},
   "outputs": [],
   "source": [
    "\n",
    "def add_base_training(output_path, basepath = \"./data/all_data/\", max_img_per_class = 1000, square_size = 5):\n",
    "    \"\"\"\n",
    "    Collects data from the basic-dataset\n",
    "    \"\"\"\n",
    "    folders = [\"div\", \"minus\", \"plus\", \"eq\", \"mul\", \"zero\", \"one\", \"two\", \"three\", \"four\", \"five\", \"six\", \"seven\", \"eight\", \"nine\"]\n",
    "\n",
    "    for folder in folders:\n",
    "        i = 500\n",
    "        folderpath = basepath+folder+\"/\"\n",
    "        for img in os.listdir(folderpath):\n",
    "            image = Image.open(folderpath+img)\n",
    "            image = np.asarray(image.resize((45,45), Image.ANTIALIAS))\n",
    "            image = rgb2gray(image)\n",
    "            image = erosion(image, square(square_size))\n",
    "            image = Image.fromarray(np.uint8(cm.Greys(image)*255))\n",
    "            image.save(\"{}{}_{}.png\".format(output_path, folder, i))\n",
    "            i-=-1\n",
    "            if i > 500 + max_img_per_class:\n",
    "                break"
   ]
  },
  {
   "cell_type": "code",
   "execution_count": 10,
   "metadata": {},
   "outputs": [],
   "source": [
    "def threshold(img):\n",
    "    img[img > img.mean()] = 255\n",
    "    img[img <= img.mean()] = 0\n",
    "    return img\n",
    "    \n",
    "\n",
    "def add_candidates(output_path, basepath= \"./data/candidates/\"):\n",
    "    \n",
    "    for img_name in os.listdir(basepath):\n",
    "        image = Image.open(basepath + img_name)\n",
    "        image = np.asarray(image.resize((45,45), Image.ANTIALIAS))\n",
    "        image = rgb2gray(image)\n",
    "        image = threshold(image)\n",
    "        image = Image.fromarray(np.uint8(cm.Greys(image)*255))\n",
    "        \n",
    "        for deg in range(21, 360, 21):\n",
    "            rotated = image.rotate(deg, PIL.Image.NEAREST, expand = 1, fillcolor = 0)\n",
    "            rotated = rotated.resize((45,45), Image.ANTIALIAS)\n",
    "            rotated.save(\"{}{}_rot_{}\".format(output_path, deg, img_name))\n",
    "\n",
    "#add_candidates(\"./data/test/\")\n"
   ]
  },
  {
   "cell_type": "code",
   "execution_count": 14,
   "metadata": {},
   "outputs": [
    {
     "name": "stdout",
     "output_type": "stream",
     "text": [
      "Updating Datasheet\n"
     ]
    }
   ],
   "source": [
    "import os\n",
    "import numpy as np\n",
    "import matplotlib.pyplot as plt\n",
    "from matplotlib import cm\n",
    "from skimage.morphology import erosion, dilation, square\n",
    "from skimage.color import rgb2gray\n",
    "from PIL import Image\n",
    "import PIL\n",
    "\n",
    "def create_training_set(train_dir):\n",
    "    \"\"\"\n",
    "    Pipeline-function that adds images to folder\n",
    "    \"\"\"\n",
    "    if not os.path.exists(train_dir):\n",
    "        os.makedirs(train_dir)\n",
    "    \n",
    "    #add_base_training(train_dir, max_img_per_class= 300)\n",
    "    #add_rotated_operators(train_dir)\n",
    "    #add_candidates(train_dir)\n",
    "    update_datasheet(train_dir)\n",
    "\n",
    "create_training_set(\"./data/train_candidates/\")"
   ]
  },
  {
   "cell_type": "code",
   "execution_count": null,
   "metadata": {},
   "outputs": [],
   "source": []
  }
 ],
 "metadata": {
  "kernelspec": {
   "display_name": "Python 3",
   "language": "python",
   "name": "python3"
  },
  "language_info": {
   "codemirror_mode": {
    "name": "ipython",
    "version": 3
   },
   "file_extension": ".py",
   "mimetype": "text/x-python",
   "name": "python",
   "nbconvert_exporter": "python",
   "pygments_lexer": "ipython3",
   "version": "3.7.6"
  }
 },
 "nbformat": 4,
 "nbformat_minor": 4
}
