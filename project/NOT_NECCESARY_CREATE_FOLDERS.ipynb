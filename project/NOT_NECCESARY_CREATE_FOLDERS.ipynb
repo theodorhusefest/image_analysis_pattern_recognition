{
 "cells": [
  {
   "cell_type": "code",
   "execution_count": 2,
   "metadata": {},
   "outputs": [],
   "source": [
    "import numpy as np\n",
    "import pandas as pd\n",
    "import matplotlib.pyplot as plt\n",
    "from PIL import Image"
   ]
  },
  {
   "cell_type": "code",
   "execution_count": 3,
   "metadata": {},
   "outputs": [],
   "source": [
    "labels = pd.read_csv('./data/hasyv2/hasy-data-labels.csv')"
   ]
  },
  {
   "cell_type": "code",
   "execution_count": 4,
   "metadata": {},
   "outputs": [],
   "source": [
    "label_dict = {\"times\": 514, \"plus\": 196, \"minus\": 195, 'div': 526, 'eq': 621}\n",
    "rel_list = [514, 196, 195, 526, 621]"
   ]
  },
  {
   "cell_type": "code",
   "execution_count": 5,
   "metadata": {},
   "outputs": [
    {
     "data": {
      "text/html": [
       "<div>\n",
       "<style scoped>\n",
       "    .dataframe tbody tr th:only-of-type {\n",
       "        vertical-align: middle;\n",
       "    }\n",
       "\n",
       "    .dataframe tbody tr th {\n",
       "        vertical-align: top;\n",
       "    }\n",
       "\n",
       "    .dataframe thead th {\n",
       "        text-align: right;\n",
       "    }\n",
       "</style>\n",
       "<table border=\"1\" class=\"dataframe\">\n",
       "  <thead>\n",
       "    <tr style=\"text-align: right;\">\n",
       "      <th></th>\n",
       "      <th>path</th>\n",
       "      <th>symbol_id</th>\n",
       "      <th>latex</th>\n",
       "      <th>user_id</th>\n",
       "    </tr>\n",
       "  </thead>\n",
       "  <tbody>\n",
       "    <tr>\n",
       "      <th>5568</th>\n",
       "      <td>hasy-data/v2-05568.png</td>\n",
       "      <td>195</td>\n",
       "      <td>-</td>\n",
       "      <td>31</td>\n",
       "    </tr>\n",
       "    <tr>\n",
       "      <th>5569</th>\n",
       "      <td>hasy-data/v2-05569.png</td>\n",
       "      <td>195</td>\n",
       "      <td>-</td>\n",
       "      <td>50</td>\n",
       "    </tr>\n",
       "    <tr>\n",
       "      <th>5570</th>\n",
       "      <td>hasy-data/v2-05570.png</td>\n",
       "      <td>195</td>\n",
       "      <td>-</td>\n",
       "      <td>5572</td>\n",
       "    </tr>\n",
       "  </tbody>\n",
       "</table>\n",
       "</div>"
      ],
      "text/plain": [
       "                        path  symbol_id latex  user_id\n",
       "5568  hasy-data/v2-05568.png        195     -       31\n",
       "5569  hasy-data/v2-05569.png        195     -       50\n",
       "5570  hasy-data/v2-05570.png        195     -     5572"
      ]
     },
     "execution_count": 5,
     "metadata": {},
     "output_type": "execute_result"
    }
   ],
   "source": [
    "rel_labels = labels[labels.symbol_id.isin(rel_list)]\n",
    "rel_labels.head(3)"
   ]
  },
  {
   "cell_type": "code",
   "execution_count": 1,
   "metadata": {},
   "outputs": [
    {
     "ename": "NameError",
     "evalue": "name 'rel_labels' is not defined",
     "output_type": "error",
     "traceback": [
      "\u001b[0;31m---------------------------------------------------------------------------\u001b[0m",
      "\u001b[0;31mNameError\u001b[0m                                 Traceback (most recent call last)",
      "\u001b[0;32m<ipython-input-1-eb1d83f10df1>\u001b[0m in \u001b[0;36m<module>\u001b[0;34m\u001b[0m\n\u001b[0;32m----> 1\u001b[0;31m \u001b[0mrel_labels\u001b[0m\u001b[0;34m\u001b[0m\u001b[0;34m\u001b[0m\u001b[0m\n\u001b[0m",
      "\u001b[0;31mNameError\u001b[0m: name 'rel_labels' is not defined"
     ]
    }
   ],
   "source": [
    "rel_labels"
   ]
  },
  {
   "cell_type": "code",
   "execution_count": 86,
   "metadata": {},
   "outputs": [
    {
     "data": {
      "text/plain": [
       "(32, 32, 3)"
      ]
     },
     "execution_count": 86,
     "metadata": {},
     "output_type": "execute_result"
    },
    {
     "data": {
      "image/png": "[encoded data removed]",
      "text/plain": [
       "<Figure size 432x288 with 1 Axes>"
      ]
     },
     "metadata": {
      "needs_background": "light"
     },
     "output_type": "display_data"
    }
   ],
   "source": [
    "ROOTDIR = \"./data/hasyv2/\"\n",
    "\n",
    "img = np.asarray(Image.open(ROOTDIR + \"hasy-data/v2-05568.png\"))\n",
    "\n",
    "plt.imshow(img)\n",
    "img.shape"
   ]
  },
  {
   "cell_type": "code",
   "execution_count": 87,
   "metadata": {},
   "outputs": [],
   "source": [
    "# Create datafolder\n",
    "import os\n",
    "import shutil\n",
    "from pathlib import Path\n",
    "HASY_DIR = \"./data/hasyv2/\"\n",
    "OPERATOR_DIR = \"./data/operators\"\n",
    "rename_map = {514: \"mul\", 196: \"plus\", 195: \"minus\", 526: \"div\", 621: \"eq\"}\n",
    "\n",
    "\n",
    "if not os.path.exists(OPERATOR_DIR):\n",
    "    os.makedirs(OPERATOR_DIR)\n",
    "\n",
    "minus = 0\n",
    "plus = 0\n",
    "mul = 0\n",
    "div = 0\n",
    "eq = 0\n",
    " \n",
    "\n",
    "current_label = 195\n",
    "for index, row in rel_labels.iterrows():\n",
    "    if current_label != row.symbol_id: \n",
    "        current_label = row.symbol_id\n",
    "    if rename_map[row.symbol_id] == \"plus\":\n",
    "        plus += 1\n",
    "        filename = \"{}_{}\".format(rename_map[row.symbol_id],plus)\n",
    "    elif rename_map[row.symbol_id] == \"minus\":\n",
    "        minus += 1\n",
    "        filename = \"{}_{}\".format(rename_map[row.symbol_id],minus)\n",
    "    elif rename_map[row.symbol_id] == \"mul\":\n",
    "        mul += 1\n",
    "        filename = \"{}_{}\".format(rename_map[row.symbol_id],mul)\n",
    "    elif rename_map[row.symbol_id] == \"div\":\n",
    "        div += 1\n",
    "        filename = \"{}_{}\".format(rename_map[row.symbol_id],div)\n",
    "    elif rename_map[row.symbol_id] == \"eq\":\n",
    "        eq += 1\n",
    "        filename = \"{}_{}\".format(rename_map[row.symbol_id],eq)\n",
    "        \n",
    "\n",
    "    old_path = HASY_DIR + row.path\n",
    "    new_path = \"{}/{}.png\".format(OPERATOR_DIR,filename)\n",
    "    shutil.copy(old_path, new_path)\n",
    "    "
   ]
  },
  {
   "cell_type": "code",
   "execution_count": 82,
   "metadata": {},
   "outputs": [
    {
     "data": {
      "text/plain": [
       "0"
      ]
     },
     "execution_count": 82,
     "metadata": {},
     "output_type": "execute_result"
    }
   ],
   "source": [
    "div"
   ]
  },
  {
   "cell_type": "code",
   "execution_count": 10,
   "metadata": {},
   "outputs": [],
   "source": [
    "import pandas as pd\n",
    "import os\n",
    "data = pd.DataFrame(columns = [\"path\", \"label\"])\n",
    "\n",
    "i = 0\n",
    "for file in os.listdir(\"./data/operators\"):\n",
    "    if \"plus\" in file:\n",
    "        newrow = pd.DataFrame(columns = [\"path\", \"label\"],data = {\"path\": file, \"label\": 0}, index = [0])\n",
    "        \n",
    "    elif \"minus\" in file:\n",
    "        newrow = pd.DataFrame(columns = [\"path\", \"label\"],data = {\"path\": file, \"label\": 1}, index = [0])\n",
    "\n",
    "    elif \"mul\" in file:\n",
    "        newrow = pd.DataFrame(columns = [\"path\", \"label\"],data = {\"path\": file, \"label\": 2}, index = [0])\n",
    "        \n",
    "    elif \"div\" in file:\n",
    "        newrow = pd.DataFrame(columns = [\"path\", \"label\"],data = {\"path\": file, \"label\": 3}, index = [0])\n",
    "\n",
    "    elif \"eq\" in file:\n",
    "        newrow = pd.DataFrame(columns = [\"path\", \"label\"],data = {\"path\": file, \"label\": 4}, index = [0])\n",
    "    \n",
    "    data = data.append(newrow, ignore_index = True)\n",
    "    i += 1\n",
    "\n",
    "data = data.reset_index(drop=True)"
   ]
  },
  {
   "cell_type": "code",
   "execution_count": 11,
   "metadata": {},
   "outputs": [],
   "source": [
    "data.to_csv('./data/operators/datasheet.csv')"
   ]
  },
  {
   "cell_type": "code",
   "execution_count": 12,
   "metadata": {},
   "outputs": [
    {
     "data": {
      "text/plain": [
       "(1467, 2)"
      ]
     },
     "execution_count": 12,
     "metadata": {},
     "output_type": "execute_result"
    }
   ],
   "source": [
    "data.shape"
   ]
  },
  {
   "cell_type": "code",
   "execution_count": null,
   "metadata": {},
   "outputs": [],
   "source": []
  }
 ],
 "metadata": {
  "kernelspec": {
   "display_name": "Python 3",
   "language": "python",
   "name": "python3"
  },
  "language_info": {
   "codemirror_mode": {
    "name": "ipython",
    "version": 3
   },
   "file_extension": ".py",
   "mimetype": "text/x-python",
   "name": "python",
   "nbconvert_exporter": "python",
   "pygments_lexer": "ipython3",
   "version": "3.7.6"
  }
 },
 "nbformat": 4,
 "nbformat_minor": 4
}
