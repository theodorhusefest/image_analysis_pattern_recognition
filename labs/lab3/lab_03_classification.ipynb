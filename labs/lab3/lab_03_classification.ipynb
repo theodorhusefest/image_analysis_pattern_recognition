{
 "cells": [
  {
   "cell_type": "markdown",
   "metadata": {},
   "source": [
    "# [IAPR 2020:][iapr2020] Lab 3 ‒  Classification\n",
    "\n",
    "**Author:** Theodor Tveit Husefest, Arlid Madshaven, Mathies Pollas Bjerg\n",
    "**Due date:** 08.05.2020\n",
    "\n",
    "[iapr2018]: https://github.com/LTS5/iapr-2018"
   ]
  },
  {
   "cell_type": "markdown",
   "metadata": {},
   "source": [
    "## Extract relevant data\n",
    "We first need to extract the `lab-03-data.tar.gz` archive.\n",
    "To this end, we use the [tarfile] module from the Python standard library.\n",
    "\n",
    "[tarfile]: https://docs.python.org/3.6/library/tarfile.html"
   ]
  },
  {
   "cell_type": "code",
   "execution_count": 1,
   "metadata": {},
   "outputs": [],
   "source": [
    "import tarfile\n",
    "import os\n",
    "import numpy as np\n",
    "import matplotlib.pyplot as plt\n",
    "import warnings\n",
    "warnings.filterwarnings('ignore')\n",
    "\n",
    "data_base_path = os.path.join(os.pardir, '../data')\n",
    "data_folder = 'lab-03-data'\n",
    "tar_path = os.path.join(data_base_path, data_folder + '.tar.gz')\n",
    "with tarfile.open(tar_path, mode='r:gz') as tar:\n",
    "    tar.extractall(path=data_base_path)"
   ]
  },
  {
   "cell_type": "markdown",
   "metadata": {},
   "source": [
    "## Part 1\n",
    "In this part, we will study classification based on the data available in the Matlab file `classification.mat` that you will under `lab-03-data/part1`.\n",
    "There are 3 data sets in this file, each one being a training set for a given class.\n",
    "They are contained in variables `a`, `b` and `c`.\n",
    "\n",
    "**Note**: we can load Matlab files using the [scipy.io] module.\n",
    "\n",
    "[scipy.io]: https://docs.scipy.org/doc/scipy/reference/io.html"
   ]
  },
  {
   "cell_type": "code",
   "execution_count": 2,
   "metadata": {},
   "outputs": [
    {
     "name": "stdout",
     "output_type": "stream",
     "text": [
      "(200, 2) (200, 2) (200, 2)\n"
     ]
    }
   ],
   "source": [
    "import scipy.io\n",
    "\n",
    "data_part1_path = os.path.join(data_base_path, data_folder, 'part1', 'classification.mat')\n",
    "matfile = scipy.io.loadmat(data_part1_path)\n",
    "a = matfile['a']\n",
    "b = matfile['b']\n",
    "c = matfile['c']\n",
    "\n",
    "print(a.shape, b.shape, c.shape)"
   ]
  },
  {
   "cell_type": "markdown",
   "metadata": {},
   "source": [
    "### 1.1 Bayes method\n",
    "Using the Bayes method, give the analytical expression of the separation curves between those three classes.\n",
    "Do reasonable hypotheses about the distributions of those classes and estimate the corresponding parameters based on the given training sets.\n",
    "Draw those curves on a plot, together with the training data.\n",
    "For simplicity reasons, round the estimated parameters to the closest integer value.\n",
    "\n",
    "*Add your implementation and discussion*"
   ]
  },
  {
   "cell_type": "code",
   "execution_count": 3,
   "metadata": {},
   "outputs": [
    {
     "data": {
      "text/plain": [
       "(600, 2)"
      ]
     },
     "execution_count": 3,
     "metadata": {},
     "output_type": "execute_result"
    }
   ],
   "source": [
    "data = np.concatenate((a, b, c))\n",
    "data.shape"
   ]
  },
  {
   "cell_type": "code",
   "execution_count": 4,
   "metadata": {},
   "outputs": [
    {
     "data": {
      "image/png": "[encoded data removed]",
      "text/plain": [
       "<Figure size 720x504 with 1 Axes>"
      ]
     },
     "metadata": {
      "needs_background": "light"
     },
     "output_type": "display_data"
    }
   ],
   "source": [
    "f = plt.figure(figsize = (10, 7))\n",
    "plt.scatter(a[:,0], a[:,1], color = 'r')\n",
    "plt.scatter(b[:,0], b[:,1], color = 'b')\n",
    "plt.scatter(c[:,0], c[:,1], color = 'g')\n",
    "\n",
    "plt.legend(['Class a', 'Class b', 'Class c'], fontsize = 12)\n",
    "plt.title('Scatter plot of the three classes')\n",
    "plt.xlim([-15, 15])\n",
    "plt.ylim([-15,15])\n",
    "plt.show()"
   ]
  },
  {
   "cell_type": "markdown",
   "metadata": {},
   "source": [
    "---\n",
    "- We observe that the classes looks somewhat Gaussian, and with different means. At first glance it looks like class a and b have similar covariances, and that class c looks a bit differently distributed.\n",
    "---"
   ]
  },
  {
   "cell_type": "code",
   "execution_count": 5,
   "metadata": {},
   "outputs": [
    {
     "name": "stdout",
     "output_type": "stream",
     "text": [
      "Covariance of class a: \n",
      "[[10  0]\n",
      " [ 0  1]]\n",
      "Covariance of class b: \n",
      "[[10  0]\n",
      " [ 0  1]]\n",
      "Covariance of class c: \n",
      "[[1 0]\n",
      " [0 5]]\n"
     ]
    }
   ],
   "source": [
    "def caluclate_mu_and_sig(x):\n",
    "    \"\"\"\n",
    "    Returns mean-vector and covariance-matrix rounded to nearest integer\n",
    "    \"\"\"\n",
    "    return np.around(x.mean(axis = 0), 0).astype(int), np.around(np.cov(x, rowvar = False), 0).astype(int)\n",
    "\n",
    "a_mu, a_sig = caluclate_mu_and_sig(a)\n",
    "b_mu, b_sig = caluclate_mu_and_sig(b)\n",
    "c_mu, c_sig = caluclate_mu_and_sig(c)\n",
    "print('Covariance of class a: \\n{}\\nCovariance of class b: \\n{}\\nCovariance of class c: \\n{}'.format(a_sig, b_sig, c_sig))"
   ]
  },
  {
   "cell_type": "markdown",
   "metadata": {},
   "source": [
    "---\n",
    "- We see that in fact that class a and b have equal covariance-matrices (when rounded to integers), and that c is different. The off-diagonal elements are zero, which tells us that the samples are independently distributed.   \n",
    " \n",
    "We know that we can write the decision curves as $ g_i - g_j = 0$, and in this case:\n",
    "$$ g_i = -\\frac{1}{2}(x-\\mu_i)^T \\Sigma_i (x-\\mu_i) + \\ln(P(w_i)) + c_i$$  \n",
    "$$ g_i = -(\\frac{1}{2\\sigma^2_{i1}}x^2 + \\frac{1}{2\\sigma^2_{i2}}y^2 ) + (\\frac{1}{\\sigma^2_{i1}} x \\mu_{i1} + \\frac{1}{ \\sigma^2_{i2}}y \\mu_{i2}) -\\frac{1}{2} (\\frac{1}{\\sigma^2_{i1}} \\mu^2_{i1} + \\frac{1}{ \\sigma^2_{i2}} \\mu^2_{i2}) + \\ln(P(w_i)) + c_i$$   \n",
    "$$ g_i = a_{i1}x^2 + a_{i2}y^2 + b_{i1}x + b_{i2}y + c_i$$   \n",
    "$$ a_{i1} = -\\frac{1}{2\\sigma^2_{i1}}, a_{i2} = -\\frac{1}{2\\sigma^2_{i2}}, b_{i1} = \\frac{\\mu_{i1}}{\\sigma^2_{i1}}, b_{i2} = \\frac{\\mu_{i2}}{\\sigma^2_{i2}}$$  \n",
    "$$ c_i = -\\frac{1}{2} (\\frac{1}{\\sigma^2_{i1}} \\mu^2_{i1} + \\frac{1}{ \\sigma^2_{i2}} \\mu^2_{i2}) + \\ln(P(w_i)) - \\ln(2\\pi) + \\frac{1}{2}\\ln(\\det{\\Sigma_i}) $$\n",
    "---"
   ]
  },
  {
   "cell_type": "code",
   "execution_count": 6,
   "metadata": {},
   "outputs": [],
   "source": [
    "def calculate_coefficients(mu, sigma):\n",
    "    \"\"\"\n",
    "    Calculates coeficients for Bayesian classifier\n",
    "    \"\"\"\n",
    "    a1 = -1/(2*sigma[0,0])\n",
    "    a2 = -1/(2*sigma[1,1])\n",
    "    b1 = mu[0]/sigma[0,0]\n",
    "    b2 = mu[1]/sigma[1,1]\n",
    "    c = -0.5*(mu[0]**2/sigma[0,0] + mu[1]**2/(sigma[1,1])) - np.log(3) - np.log(2*np.pi) + 0.5*np.log(np.linalg.det(sigma))\n",
    "    return a1, a2, b1, b2, c\n",
    "\n",
    "ab_coef = np.asarray(calculate_coefficients(a_mu, a_sig))-np.asarray(calculate_coefficients(b_mu, b_sig))\n",
    "ac_coef = np.asarray(calculate_coefficients(a_mu, a_sig))-np.asarray(calculate_coefficients(c_mu, c_sig))\n",
    "bc_coef = np.asarray(calculate_coefficients(b_mu, b_sig))-np.asarray(calculate_coefficients(c_mu, c_sig))\n",
    "\n"
   ]
  },
  {
   "cell_type": "code",
   "execution_count": 7,
   "metadata": {},
   "outputs": [],
   "source": [
    "# Calculate curves\n",
    "abx = np.arange(-7, 15, 0.1)\n",
    "aby = np.arange(-7, 7, 0.1)\n",
    "abX, abY = np.meshgrid(abx, aby)\n",
    "ab = ab_coef[0]*abX**2 + ab_coef[1]*abY**2 + ab_coef[2]*abX + ab_coef[3]*abY + ab_coef[4]\n",
    "\n",
    "acx = np.arange(-14, 15, 0.1)\n",
    "acy = np.arange(-15, 2.4, 0.1)\n",
    "acX, acY = np.meshgrid(acx, acy)\n",
    "ac = ac_coef[0]*acX**2 + ac_coef[1]*acY**2 + ac_coef[2]*acX + ac_coef[3]*acY + ac_coef[4]\n",
    "\n",
    "bcx = np.arange(-14, 15, 0.1)\n",
    "bcy = np.arange(2.3, 14, 0.1)\n",
    "bcX, bcY = np.meshgrid(bcx, bcy)\n",
    "bc = bc_coef[0]*bcX**2 + bc_coef[1]*bcY**2 + bc_coef[2]*bcX + bc_coef[3]*bcY + bc_coef[4]\n"
   ]
  },
  {
   "cell_type": "code",
   "execution_count": 8,
   "metadata": {},
   "outputs": [
    {
     "data": {
      "image/png": "[encoded data removed]",
      "text/plain": [
       "<Figure size 504x504 with 1 Axes>"
      ]
     },
     "metadata": {
      "needs_background": "light"
     },
     "output_type": "display_data"
    }
   ],
   "source": [
    "# Plot curves with the data\n",
    "f = plt.figure(figsize = (7, 7))\n",
    "\n",
    "plt.contour(abX, abY, ab, 0)\n",
    "plt.contour(acX, acY, ac, 0)\n",
    "plt.contour(bcX, bcY, bc, 0)\n",
    "\n",
    "plt.scatter(a[:,0], a[:,1], color = 'r')\n",
    "plt.scatter(b[:,0], b[:,1], color = 'b')\n",
    "plt.scatter(c[:,0], c[:,1], color = 'g')\n",
    "\n",
    "plt.title('Contourlines of Bayesian Classifier')\n",
    "plt.xlim([-14, 14])\n",
    "plt.ylim([-14, 14])\n",
    "\n",
    "plt.show()"
   ]
  },
  {
   "cell_type": "markdown",
   "metadata": {},
   "source": [
    "---\n",
    "#### Discussion of Task 1.1\n",
    "\n",
    "We see that we get pretty good contourlines/separation between the classes when using the Bayesian Classifier.  \n",
    "Between class a and b we get a straight line, which is to expect as they have the same covariance. \n",
    "Since class C has different covariance we get the curved boundaries to the other classes.  \n",
    "Although there are some misclassifications, these are unavoidable which this kind of classification as the data is overlapping.  \n",
    "Actually, if the data is in fact Gaussian these are optimal boundaries (up to rounding-errors).\n",
    "\n",
    "---"
   ]
  },
  {
   "cell_type": "markdown",
   "metadata": {},
   "source": [
    "### 1.2 Mahalanobis distance\n",
    "For classes `a` and `b`, give the expression of the Mahalanobis distance used to classify a point in class `a` or `b`, and verify the obtained classification, in comparison with the \"complete\" Bayes classification, for a few points of the plane.\n",
    "\n",
    "*Add your implementation and discussion*"
   ]
  },
  {
   "cell_type": "markdown",
   "metadata": {},
   "source": [
    "---\n",
    "So the Mahalanobis distance is basically the Eucledian distance, but taking into concideration differences in covariances. We label the new point by minimizing the Mahalanobis distance which is calculated from the following equation.\n",
    "$$ d_m = \\sqrt{(x - \\mu_i)\\Sigma^{-1}(x - \\mu_i)}$$\n",
    "---"
   ]
  },
  {
   "cell_type": "code",
   "execution_count": 9,
   "metadata": {},
   "outputs": [],
   "source": [
    "def calculate_mahalanobis_distance(class_, X):\n",
    "    \"\"\"\n",
    "    Returns the Mahalanobis distance to a given class\n",
    "    \"\"\"\n",
    "    mu, sig = caluclate_mu_and_sig(class_)\n",
    "    return np.sqrt( (X-mu) @ np.linalg.inv(sig) @ (X-mu))\n",
    "    \n",
    "\n",
    "def label_point(data, X):\n",
    "    \"\"\"\n",
    "    Returns a point label based on Mahalanobis distance\n",
    "    \"\"\"\n",
    "    distances = []\n",
    "    for class_ in data:\n",
    "        distances.append(calculate_mahalanobis_distance(class_, X))\n",
    "    return np.argmin(distances)\n"
   ]
  },
  {
   "cell_type": "code",
   "execution_count": 10,
   "metadata": {},
   "outputs": [],
   "source": [
    "import random\n",
    "def generate_gaussian_points(class_, num_points):\n",
    "    \"\"\"\n",
    "    Generates random points from a gaussian distribution \n",
    "    \"\"\"\n",
    "    mu, sig = caluclate_mu_and_sig(class_)\n",
    "    x = [random.gauss(mu[0], np.sqrt(sig[0,0])) for _ in range(num_points)]\n",
    "    y = [random.gauss(mu[1], np.sqrt(sig[1,1])) for _ in range(num_points)]\n",
    "        \n",
    "    return x,y"
   ]
  },
  {
   "cell_type": "code",
   "execution_count": 22,
   "metadata": {},
   "outputs": [
    {
     "name": "stdout",
     "output_type": "stream",
     "text": [
      "Number of misclassified points is 14, resulting in accuracy of 95.33333333333334%.\n"
     ]
    },
    {
     "data": {
      "image/png": "[encoded data removed]",
      "text/plain": [
       "<Figure size 504x504 with 1 Axes>"
      ]
     },
     "metadata": {
      "needs_background": "light"
     },
     "output_type": "display_data"
    }
   ],
   "source": [
    "random.seed(12)\n",
    "\n",
    "def plot_classified_point(x, y, label, correct_label):\n",
    "    \"\"\"\n",
    "    Helper function for plotting the points and report missclassified\n",
    "    Returns 1 if missclassified\n",
    "    \"\"\"\n",
    "    colors = {0: 'red', 1: 'blue', 2: 'green', 3: 'orange'}\n",
    "    \n",
    "    if label != correct_label:\n",
    "        plt.scatter(x, y, s = 100,color = colors[3])\n",
    "        return 1\n",
    "    else:\n",
    "        plt.scatter(x, y, color = colors[label])\n",
    "        return 0\n",
    "\n",
    "\n",
    "classes = [a, b, c]\n",
    "f = plt.figure(figsize = (7,7))\n",
    "num_points = 100\n",
    "\n",
    "xa, ya = generate_gaussian_points(classes[0], num_points)\n",
    "xb, yb = generate_gaussian_points(classes[1], num_points)\n",
    "xc, yc = generate_gaussian_points(classes[2], num_points)\n",
    "\n",
    "misclassified = 0\n",
    "for i in range(num_points):\n",
    "    label_a = label_point(classes, [xa[i], ya[i]])\n",
    "    label_b = label_point(classes, [xb[i], yb[i]])\n",
    "    label_c = label_point(classes, [xc[i], yc[i]])\n",
    "    misclassified += plot_classified_point(xa[i], ya[i], label_a, 0)\n",
    "    misclassified += plot_classified_point(xb[i], yb[i], label_b, 1)\n",
    "    misclassified += plot_classified_point(xc[i], yc[i], label_c, 2)\n",
    "\n",
    "print('Number of misclassified points is {}, resulting in accuracy of {}%.'.format(misclassified, 100*(1-(misclassified/(num_points*3)))))\n",
    "    \n",
    "\n",
    "# Add contours from the Bayesian classifier\n",
    "plt.contour(abX, abY, ab, 0)\n",
    "plt.contour(acX, acY, ac, 0)\n",
    "plt.contour(bcX, bcY, bc, 0)\n",
    "\n",
    "plt.xlim([-14, 14])\n",
    "plt.ylim([-14, 14])\n",
    "plt.title('Random numbers labeled with Mahalanobis distance')\n",
    "plt.legend(['Class a', 'Class b', 'Class c', 'Wrongly Classified'], fontsize = 12 )\n",
    "\n",
    "plt.show()"
   ]
  },
  {
   "cell_type": "markdown",
   "metadata": {},
   "source": [
    "---\n",
    "#### Thoughs on Task 1.2\n",
    "\n",
    "To generate the points we used random gaussian number from the same distributions as Task 1.1, and in the plot above we have labeled the misclassified points.\n",
    "We see that the Mahalanobis is doing a good job labeling the points, getting an accuracy of around 95%. As the classes are overlapping it is impossible to get 100%, as the Bayesian classifier is optimal when knowing the distributions as we do here.\n",
    "\n",
    "---"
   ]
  },
  {
   "cell_type": "markdown",
   "metadata": {},
   "source": [
    "## Part 2\n",
    "In this part, we aim to classify digits using the complete version of MNIST digits dataset.\n",
    "The dataset consists of 60'000 training images and 10'000 test images of handwritten digits.\n",
    "Each image has size 28x28, and has assigned a label from zero to nine, denoting the digits value.\n",
    "Given this data, your task is to construct a Multilayer Perceptron (MLP) for supervised training and classification and evaluate it on the test images.\n",
    "\n",
    "Download the MNIST dataset (all 4 files) from http://yann.lecun.com/exdb/mnist/ under `lab-03-data/part2`.\n",
    "You can then use the script provided below to extract and load training and testing images in Python.\n",
    "\n",
    "To create an MLP you are free to choose any library.\n",
    "In case you don't have any preferences, we encourage you to use the [scikit-learn] package; it is a simple, efficient and free tool for data analysis and machine learning.\n",
    "In this [link][sklearn-example], you can find a basic example to see how to create and train an MLP using [scikit-learn].\n",
    "Your network should have the following properties:\n",
    "* Input `x`: 784-dimensional (i.e. 784 visible units representing the flattened 28x28 pixel images).\n",
    "* 100 hidden units `h`.\n",
    "* 10 output units `y`, i.e. the labels, with a value close to one in the i-th class representing a high probability of the input representing the digit `i`.\n",
    "\n",
    "If you need additional examples you can borrow some code from image classification tutorials.\n",
    "However, we recommend that you construct a minimal version of the network on your own to gain better insights.\n",
    "\n",
    "[scikit-learn]: http://scikit-learn.org/stable/index.html\n",
    "[sklearn-example]: http://scikit-learn.org/stable/modules/neural_networks_supervised.html"
   ]
  },
  {
   "cell_type": "markdown",
   "metadata": {},
   "source": [
    "### 2.1 Dataset loading\n",
    "Here we first declare the methods `extract_data` and `extract_labels` so that we can reuse them later in the code.\n",
    "Then we extract both the data and corresponding labels, and plot randomly some images and corresponding labels of the training set."
   ]
  },
  {
   "cell_type": "code",
   "execution_count": 12,
   "metadata": {
    "jupyter": {
     "source_hidden": true
    }
   },
   "outputs": [],
   "source": [
    "import gzip\n",
    "import numpy as np\n",
    "import matplotlib.pyplot as plt\n",
    "\n",
    "def extract_data(filename, image_shape, image_number):\n",
    "    with gzip.open(filename) as bytestream:\n",
    "        bytestream.read(16)\n",
    "        buf = bytestream.read(np.prod(image_shape) * image_number)\n",
    "        data = np.frombuffer(buf, dtype=np.uint8).astype(np.float32)\n",
    "        data = data.reshape(image_number, image_shape[0], image_shape[1])\n",
    "    return data\n",
    "\n",
    "\n",
    "def extract_labels(filename, image_number):\n",
    "    with gzip.open(filename) as bytestream:\n",
    "        bytestream.read(8)\n",
    "        buf = bytestream.read(1 * image_number)\n",
    "        labels = np.frombuffer(buf, dtype=np.uint8).astype(np.int64)\n",
    "    return labels"
   ]
  },
  {
   "cell_type": "code",
   "execution_count": 13,
   "metadata": {
    "jupyter": {
     "source_hidden": true
    }
   },
   "outputs": [],
   "source": [
    "image_shape = (28, 28)\n",
    "train_set_size = 60000\n",
    "test_set_size = 10000\n",
    "\n",
    "data_part2_folder = os.path.join(data_base_path, data_folder, 'part2')\n",
    "\n",
    "train_images_path = os.path.join(data_part2_folder, 'train-images-idx3-ubyte.gz')\n",
    "train_labels_path = os.path.join(data_part2_folder, 'train-labels-idx1-ubyte.gz')\n",
    "test_images_path = os.path.join(data_part2_folder, 't10k-images-idx3-ubyte.gz')\n",
    "test_labels_path = os.path.join(data_part2_folder, 't10k-labels-idx1-ubyte.gz')\n",
    "\n",
    "train_images = extract_data(train_images_path, image_shape, train_set_size)\n",
    "test_images = extract_data(test_images_path, image_shape, test_set_size)\n",
    "train_labels = extract_labels(train_labels_path, train_set_size)\n",
    "test_labels = extract_labels(test_labels_path, test_set_size)"
   ]
  },
  {
   "cell_type": "code",
   "execution_count": 14,
   "metadata": {
    "jupyter": {
     "source_hidden": true
    }
   },
   "outputs": [
    {
     "data": {
      "image/png": "[encoded data removed]",
      "text/plain": [
       "<Figure size 864x216 with 10 Axes>"
      ]
     },
     "metadata": {
      "needs_background": "light"
     },
     "output_type": "display_data"
    }
   ],
   "source": [
    "prng = np.random.RandomState(seed=123456789)  # seed to always re-draw the same distribution\n",
    "plt_ind = prng.randint(low=0, high=train_set_size, size=10)\n",
    "\n",
    "fig, axes = plt.subplots(1, 10, figsize=(12, 3))\n",
    "for ax, im, lb in zip(axes, train_images[plt_ind], train_labels[plt_ind]):\n",
    "    ax.imshow(im, cmap='gray')\n",
    "    ax.axis('off')\n",
    "    ax.set_title(lb)"
   ]
  },
  {
   "cell_type": "markdown",
   "metadata": {},
   "source": [
    "### 2.2 MLP\n",
    "*Add your implementation and discussion*"
   ]
  },
  {
   "cell_type": "code",
   "execution_count": 15,
   "metadata": {},
   "outputs": [],
   "source": [
    "import torch\n",
    "from torch import optim, nn\n",
    "import torch.nn.functional as F\n",
    "from torchvision import transforms, datasets\n",
    "import torch.utils.data as data"
   ]
  },
  {
   "cell_type": "code",
   "execution_count": 16,
   "metadata": {},
   "outputs": [],
   "source": [
    "def get_dataloaders(batch_size = 16, \n",
    "                    valid_size = 0.2,\n",
    "                    shuffle= True):\n",
    "    \"\"\"\n",
    "    Helper function to create online dataloaders to use in pytorch network.\n",
    "    \"\"\"\n",
    "    transform = transforms.Compose([transforms.ToTensor(), transforms.Normalize((0.5), (0.5))])\n",
    "    train_dataset = datasets.MNIST('MNIST_data/', download= True, train= True, transform = transform)\n",
    "    \n",
    "    test_dataset = datasets.MNIST('MNIST_data/', download= True, train= False, transform = transform)\n",
    "    \n",
    "    num_train = len(train_dataset)\n",
    "    indicies = list(range(num_train))\n",
    "    split = int(np.floor(valid_size * num_train))\n",
    "    \n",
    "    if shuffle:\n",
    "        np.random.shuffle(indicies)\n",
    "        \n",
    "    train_ix, val_ix = indicies[split:], indicies[:split]\n",
    "    train_sampler = data.SubsetRandomSampler(train_ix)\n",
    "    val_sampler = data.SubsetRandomSampler(val_ix)\n",
    "    \n",
    "    train_loader = data.DataLoader(train_dataset, batch_size=batch_size, sampler= train_sampler)\n",
    "    val_loader = data.DataLoader(train_dataset, batch_size=batch_size, sampler= val_sampler)\n",
    "    test_loader = data.DataLoader(test_dataset, batch_size = batch_size)\n",
    "    return train_loader, val_loader, test_loader\n",
    "\n",
    "train_loader, val_loader, test_loader = get_dataloaders()\n",
    "\n",
    "\n"
   ]
  },
  {
   "cell_type": "code",
   "execution_count": 17,
   "metadata": {},
   "outputs": [],
   "source": [
    "class Net(torch.nn.Module):\n",
    "    def __init__(self):\n",
    "        super(Net, self,).__init__()\n",
    "        self.fc1 = nn.Linear(784, 100)\n",
    "        self.fc2 = nn.Linear(100, 10)\n",
    "        \n",
    "    def forward(self, x):\n",
    "        x = F.relu(self.fc1(x))\n",
    "        x = self.fc2(x)\n",
    "        return x\n",
    "        \n",
    "    def predict(self, x):\n",
    "        logits = self.forward(x)\n",
    "        return F.softmax(x)\n",
    "    \n",
    "net = Net()"
   ]
  },
  {
   "cell_type": "code",
   "execution_count": 18,
   "metadata": {},
   "outputs": [],
   "source": [
    "def validate_on_dataloader(net, dataloader):\n",
    "    \"\"\"\n",
    "    Returns accuracy on a given dataloader\n",
    "    \"\"\"\n",
    "    net.eval()\n",
    "    correct = 0\n",
    "    total = 0\n",
    "    with torch.no_grad():    \n",
    "        for images, labels in val_loader:\n",
    "\n",
    "            images.resize_(images.size()[0], 784)\n",
    "\n",
    "            output = net(images)\n",
    "            predicted = (F.softmax(output).data).max(1)[1]\n",
    "            correct += (labels == predicted).sum().item()\n",
    "            total += labels.size(0)\n",
    "\n",
    "    return 100*(correct/total)"
   ]
  },
  {
   "cell_type": "code",
   "execution_count": 19,
   "metadata": {},
   "outputs": [
    {
     "name": "stdout",
     "output_type": "stream",
     "text": [
      "--------------------------------------------------\n",
      "Started training on epoch 0.\n",
      "Accuracy on validation set 92.35\n",
      "Finished epoch after 11.246s\n",
      "Loss after epoch 0 was 1124.4774397518486.\n",
      "--------------------------------------------------\n",
      "\n",
      "--------------------------------------------------\n",
      "Started training on epoch 1.\n",
      "Finished epoch after 10.096s\n",
      "Loss after epoch 1 was 596.3280532676727.\n",
      "--------------------------------------------------\n",
      "\n",
      "--------------------------------------------------\n",
      "Started training on epoch 2.\n",
      "Accuracy on validation set 94.66666666666667\n",
      "Finished epoch after 11.647s\n",
      "Loss after epoch 2 was 463.73455727798864.\n",
      "--------------------------------------------------\n",
      "\n",
      "--------------------------------------------------\n",
      "Started training on epoch 3.\n",
      "Finished epoch after 10.225s\n",
      "Loss after epoch 3 was 395.5456504263566.\n",
      "--------------------------------------------------\n",
      "\n",
      "--------------------------------------------------\n",
      "Started training on epoch 4.\n",
      "Accuracy on validation set 96.05\n",
      "Finished epoch after 12.486s\n",
      "Loss after epoch 4 was 352.76089337770827.\n",
      "--------------------------------------------------\n",
      "\n",
      "--------------------------------------------------\n",
      "Started training on epoch 5.\n",
      "Finished epoch after 10.795s\n",
      "Loss after epoch 5 was 317.42360800976167.\n",
      "--------------------------------------------------\n",
      "\n",
      "--------------------------------------------------\n",
      "Started training on epoch 6.\n",
      "Accuracy on validation set 96.59166666666667\n",
      "Finished epoch after 12.436s\n",
      "Loss after epoch 6 was 290.28255286303465.\n",
      "--------------------------------------------------\n",
      "\n",
      "--------------------------------------------------\n",
      "Started training on epoch 7.\n",
      "Finished epoch after 10.683s\n",
      "Loss after epoch 7 was 272.78218800931063.\n",
      "--------------------------------------------------\n",
      "\n",
      "--------------------------------------------------\n",
      "Started training on epoch 8.\n",
      "Accuracy on validation set 96.46666666666667\n",
      "Finished epoch after 12.249s\n",
      "Loss after epoch 8 was 256.25646838147077.\n",
      "--------------------------------------------------\n",
      "\n",
      "--------------------------------------------------\n",
      "Started training on epoch 9.\n",
      "Finished epoch after 10.532s\n",
      "Loss after epoch 9 was 239.57437322269107.\n",
      "--------------------------------------------------\n",
      "\n",
      "--------------------------------------------------\n",
      "Started training on epoch 10.\n",
      "Accuracy on validation set 95.86666666666666\n",
      "Finished epoch after 12.118s\n",
      "Loss after epoch 10 was 229.61421465300373.\n",
      "--------------------------------------------------\n",
      "\n",
      "--------------------------------------------------\n",
      "Started training on epoch 11.\n",
      "Finished epoch after 10.479s\n",
      "Loss after epoch 11 was 212.6721947363112.\n",
      "--------------------------------------------------\n",
      "\n",
      "--------------------------------------------------\n",
      "Started training on epoch 12.\n",
      "Accuracy on validation set 96.35833333333333\n",
      "Finished epoch after 12.092s\n",
      "Loss after epoch 12 was 201.33378416897176.\n",
      "--------------------------------------------------\n",
      "\n",
      "--------------------------------------------------\n",
      "Started training on epoch 13.\n",
      "Finished epoch after 10.445s\n",
      "Loss after epoch 13 was 199.42273459933676.\n",
      "--------------------------------------------------\n",
      "\n",
      "--------------------------------------------------\n",
      "Started training on epoch 14.\n",
      "Accuracy on validation set 96.89166666666667\n",
      "Finished epoch after 12.924s\n",
      "Loss after epoch 14 was 192.06746353903873.\n",
      "--------------------------------------------------\n",
      "\n",
      "--------------------------------------------------\n",
      "Started training on epoch 15.\n",
      "Finished epoch after 10.896s\n",
      "Loss after epoch 15 was 181.03812375007328.\n",
      "--------------------------------------------------\n",
      "\n",
      "--------------------------------------------------\n",
      "Started training on epoch 16.\n",
      "Accuracy on validation set 96.45833333333333\n",
      "Finished epoch after 11.935s\n",
      "Loss after epoch 16 was 179.25846254317185.\n",
      "--------------------------------------------------\n",
      "\n",
      "--------------------------------------------------\n",
      "Started training on epoch 17.\n",
      "Finished epoch after 10.494s\n",
      "Loss after epoch 17 was 171.01815833898036.\n",
      "--------------------------------------------------\n",
      "\n",
      "--------------------------------------------------\n",
      "Started training on epoch 18.\n",
      "Accuracy on validation set 96.73333333333333\n",
      "Finished epoch after 12.347s\n",
      "Loss after epoch 18 was 160.17890782859422.\n",
      "--------------------------------------------------\n",
      "\n",
      "--------------------------------------------------\n",
      "Started training on epoch 19.\n",
      "Finished epoch after 10.474s\n",
      "Loss after epoch 19 was 158.29729489664805.\n",
      "--------------------------------------------------\n",
      "\n"
     ]
    }
   ],
   "source": [
    "import time\n",
    "\n",
    "epochs = 20\n",
    "eval_every = 2\n",
    "criterion = nn.CrossEntropyLoss()\n",
    "optimizer = optim.Adam(net.parameters(), lr = 0.001)\n",
    "\n",
    "for e in range(epochs):\n",
    "    epoch_loss = 0\n",
    "    accuracy = 0\n",
    "    tic = time.time()\n",
    "    net.train()\n",
    "    \n",
    "    print('--------------------------------------------------')\n",
    "    print('Started training on epoch {}.'.format(e))\n",
    "\n",
    "    \n",
    "    for images, labels in train_loader:\n",
    "        images.resize_(images.size()[0], 784)\n",
    "        \n",
    "        optimizer.zero_grad()\n",
    "        \n",
    "        output = net(images)\n",
    "        loss = criterion(output, labels)\n",
    "        loss.backward()\n",
    "        \n",
    "        optimizer.step()\n",
    "        \n",
    "        epoch_loss += loss.item()\n",
    "    \n",
    "    if e % eval_every == 0:\n",
    "        accuracy = validate_on_dataloader(net, val_loader)\n",
    "        print('Accuracy on validation set {}'.format(accuracy))\n",
    "\n",
    "\n",
    "        \n",
    "    toc = time.time()\n",
    "    print('Finished epoch after {}s'.format(np.around(toc-tic, 3)))\n",
    "    print('Loss after epoch {} was {}.'.format(e, epoch_loss))\n",
    "    print('--------------------------------------------------\\n')\n",
    "    "
   ]
  },
  {
   "cell_type": "code",
   "execution_count": 20,
   "metadata": {},
   "outputs": [
    {
     "name": "stdout",
     "output_type": "stream",
     "text": [
      "Accuracy on testset: 96.71666666666667\n"
     ]
    }
   ],
   "source": [
    "test_accuracy = validate_on_dataloader(net, train_loader)\n",
    "\n",
    "print('Accuracy on testset:', test_accuracy)"
   ]
  },
  {
   "cell_type": "code",
   "execution_count": 21,
   "metadata": {},
   "outputs": [
    {
     "name": "stdout",
     "output_type": "stream",
     "text": [
      "Label: 1\n",
      "Predicted: 1\n"
     ]
    },
    {
     "data": {
      "image/png": "[encoded data removed]",
      "text/plain": [
       "<Figure size 432x288 with 1 Axes>"
      ]
     },
     "metadata": {
      "needs_background": "light"
     },
     "output_type": "display_data"
    }
   ],
   "source": [
    "dataiter = iter(test_loader)\n",
    "images, labels = dataiter.next()\n",
    "img_nr = np.random.randint(5, size = 1)\n",
    "img, label = images[img_nr], labels[img_nr]\n",
    "\n",
    "plt.imshow(img.resize(28,28))\n",
    "print('Label:', label.item())\n",
    "\n",
    "output = net(img.resize(1, 784))\n",
    "pred = (F.softmax(output).data).max(1)[1]\n",
    "print('Predicted:', pred.item())"
   ]
  },
  {
   "cell_type": "markdown",
   "metadata": {},
   "source": [
    "---\n",
    "#### Thoughts on Task 2\n",
    "\n",
    "As the group had more experience in PyTorch we chose to use this to implement the neural net, and it gave quite good performance.  \n",
    "We see that the neural net is performing very good with quite low complexity, and if we were to add for example convolutional layers we would get even better performance.  \n",
    "Compared to lab 2 where we had to pick out features and tune our algos, this is a lot easier and is probably performing a lot better than we could manage by doing this manually.\n",
    "\n",
    "---"
   ]
  }
 ],
 "metadata": {
  "kernelspec": {
   "display_name": "Python 3",
   "language": "python",
   "name": "python3"
  },
  "language_info": {
   "codemirror_mode": {
    "name": "ipython",
    "version": 3
   },
   "file_extension": ".py",
   "mimetype": "text/x-python",
   "name": "python",
   "nbconvert_exporter": "python",
   "pygments_lexer": "ipython3",
   "version": "3.7.6"
  }
 },
 "nbformat": 4,
 "nbformat_minor": 4
}
