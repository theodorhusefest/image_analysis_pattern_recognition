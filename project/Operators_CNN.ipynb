{
 "cells": [
  {
   "cell_type": "markdown",
   "metadata": {},
   "source": [
    "# Linear Classifier of Math-operators\n",
    "In this notebook we build the linear classifier for the mathematical operators.  \n",
    "Its safe to say this is quite overfitted on the operators we are given, but we accept this as its works on the usecase."
   ]
  },
  {
   "cell_type": "code",
   "execution_count": 1,
   "metadata": {},
   "outputs": [],
   "source": [
    "import os\n",
    "import numpy as np\n",
    "import pandas as pd\n",
    "from skimage import io\n",
    "from PIL import Image\n",
    "from skimage.color import rgb2gray\n",
    "from skimage.transform import resize\n",
    "import matplotlib.pyplot as plt\n",
    "\n",
    "import torch\n",
    "import torch.nn as nn\n",
    "from torch.utils.data import Dataset, DataLoader\n",
    "from torch.utils.data.sampler import SubsetRandomSampler\n",
    "import torch.nn.functional as F\n",
    "\n",
    "from torchvision import transforms, utils\n",
    "import torchvision.transforms.functional as TF\n",
    "import warnings\n",
    "warnings.filterwarnings('ignore')"
   ]
  },
  {
   "cell_type": "code",
   "execution_count": 3,
   "metadata": {},
   "outputs": [],
   "source": [
    "class OperatorsDataset(Dataset):\n",
    "    \"\"\" Custom Dataset for Operators\"\"\"\n",
    "    \n",
    "    def __init__(self, root_dir, csv_file, transform = None, grayscale = True):\n",
    "        \n",
    "        self.root_dir = root_dir\n",
    "        self.dataframe = pd.read_csv(csv_file)\n",
    "        self.transform = transform\n",
    "        self.grayscale = grayscale\n",
    "        \n",
    "    def __len__(self):\n",
    "        return self.dataframe.shape[0]\n",
    "        \n",
    "    def __getitem__(self, idx):\n",
    "        if torch.is_tensor(idx):\n",
    "            idx = idx.tolist()\n",
    "            \n",
    "        img_name = os.path.join(self.root_dir, self.dataframe.loc[idx].path)\n",
    "        image = Image.open(img_name)\n",
    "\n",
    "        label = self.dataframe.loc[idx].label\n",
    "        \n",
    "        if self.transform:\n",
    "            sample = self.transform(image)\n",
    "        \n",
    "        image = np.asarray(image)        \n",
    "        if self.grayscale:\n",
    "            image = rgb2gray(image)\n",
    "            \n",
    "        image = image.astype(np.float32)\n",
    "\n",
    "        return (image, label)\n",
    "\n",
    "dataset = OperatorsDataset(\"./data/operators\", \"./data/operators/datasheet.csv\", \n",
    "                           transform = transforms.Compose([transforms.RandomRotation(90),\n",
    "                                                           transforms.RandomPerspective(),\n",
    "                                                           transforms.ToTensor()]))"
   ]
  },
  {
   "cell_type": "code",
   "execution_count": 4,
   "metadata": {},
   "outputs": [],
   "source": [
    "\n",
    "def get_dataloaders(dataset,\n",
    "        batch_size = 4,\n",
    "        valid_size = 0.2,\n",
    "        shuffle = True,\n",
    "        random_seed = 1):\n",
    "\n",
    "    num_train = len(dataset)\n",
    "    indices = list(range(num_train))\n",
    "    split = int(np.floor(valid_size * num_train))\n",
    "\n",
    "    if shuffle:\n",
    "        np.random.seed(random_seed)\n",
    "        np.random.shuffle(indices)\n",
    "\n",
    "    train_idx, valid_idx = indices[split:], indices[:split]\n",
    "    train_sampler = SubsetRandomSampler(train_idx)\n",
    "    valid_sampler = SubsetRandomSampler(valid_idx)\n",
    "\n",
    "    train_loader = torch.utils.data.DataLoader(\n",
    "        dataset, batch_size=batch_size, sampler=train_sampler,\n",
    "    )\n",
    "    valid_loader = torch.utils.data.DataLoader(\n",
    "        dataset, batch_size=batch_size, sampler=valid_sampler,\n",
    "    )\n",
    "    return train_loader, valid_loader\n",
    "\n",
    "train_loader, valid_loader = get_dataloaders(dataset)\n",
    "\n"
   ]
  },
  {
   "cell_type": "code",
   "execution_count": 5,
   "metadata": {},
   "outputs": [],
   "source": [
    "class OperatorNet(nn.Module):\n",
    "    def __init__(self):\n",
    "        \"\"\" Init \"\"\"\n",
    "        super().__init__()\n",
    "        self.fc1 = nn.Linear(32*32, 100)\n",
    "        self.fc2 = nn.Linear(100, 5)\n",
    "        \n",
    "    def forward(self, x):\n",
    "        \"\"\" Forward pass \"\"\"\n",
    "        \n",
    "        x = F.relu(self.fc1(x))\n",
    "        x = self.fc2(x)\n",
    "        return x\n",
    "        \n",
    "    def predict(self, x):\n",
    "        \"\"\" Returns softmaxed labels\"\"\"\n",
    "        \n",
    "        x = self.forward(x)\n",
    "        return F.softmax(x)\n"
   ]
  },
  {
   "cell_type": "code",
   "execution_count": 6,
   "metadata": {},
   "outputs": [],
   "source": [
    "def validate_on_dataloader(net, dataloader):\n",
    "    \"\"\"\n",
    "    Returns accuracy on a given dataloader given net\n",
    "    \"\"\"\n",
    "    net.eval()\n",
    "    correct = 0\n",
    "    total = 0\n",
    "    with torch.no_grad():    \n",
    "        for images, labels in dataloader:\n",
    "\n",
    "            images.resize_(images.size()[0], 1024)\n",
    "\n",
    "            output = net(images)\n",
    "            predicted = (F.softmax(output).data).max(1)[1]\n",
    "            correct += (labels == predicted).sum().item()\n",
    "            total += labels.size(0)\n",
    "\n",
    "    return 100*(correct/total)"
   ]
  },
  {
   "cell_type": "code",
   "execution_count": 7,
   "metadata": {},
   "outputs": [
    {
     "name": "stdout",
     "output_type": "stream",
     "text": [
      "\n",
      "----------------------------------------\n",
      "\n",
      "Started on epoch 0\n",
      "Loss on current epoch: 443.7697374820709\n",
      "Accuracy on train set 62.75\n",
      "Accuracy on validation set 60.39\n",
      "----------------------------------------\n",
      "\n",
      "\n",
      "----------------------------------------\n",
      "\n",
      "Started on epoch 10\n",
      "Loss on current epoch: 146.30780578404665\n",
      "Accuracy on train set 88.91\n",
      "Accuracy on validation set 86.36\n",
      "----------------------------------------\n",
      "\n",
      "\n",
      "----------------------------------------\n",
      "\n",
      "Started on epoch 20\n",
      "Loss on current epoch: 90.05744987353683\n",
      "Accuracy on train set 93.52\n",
      "Accuracy on validation set 88.31\n",
      "----------------------------------------\n",
      "\n",
      "\n",
      "----------------------------------------\n",
      "\n",
      "Started on epoch 30\n",
      "Loss on current epoch: 62.75812986306846\n",
      "Accuracy on train set 95.22\n",
      "Accuracy on validation set 88.96\n",
      "----------------------------------------\n",
      "\n",
      "\n",
      "----------------------------------------\n",
      "\n",
      "Started on epoch 40\n",
      "Loss on current epoch: 46.279984782100655\n",
      "Accuracy on train set 96.6\n",
      "Accuracy on validation set 89.61\n",
      "----------------------------------------\n",
      "\n",
      "\n",
      "----------------------------------------\n",
      "\n",
      "Started on epoch 50\n",
      "Loss on current epoch: 35.32589295017533\n",
      "Accuracy on train set 98.3\n",
      "Accuracy on validation set 90.58\n",
      "----------------------------------------\n",
      "\n",
      "\n",
      "----------------------------------------\n",
      "\n",
      "Started on epoch 60\n",
      "Loss on current epoch: 25.72130903764628\n",
      "Accuracy on train set 98.87\n",
      "Accuracy on validation set 91.88\n",
      "----------------------------------------\n",
      "\n",
      "\n",
      "----------------------------------------\n",
      "\n",
      "Started on epoch 70\n",
      "Loss on current epoch: 19.671683042077348\n",
      "Accuracy on train set 99.19\n",
      "Accuracy on validation set 91.56\n",
      "----------------------------------------\n",
      "\n",
      "\n",
      "----------------------------------------\n",
      "\n",
      "Started on epoch 80\n",
      "Loss on current epoch: 13.721135331579717\n",
      "Accuracy on train set 99.35\n",
      "Accuracy on validation set 91.88\n",
      "----------------------------------------\n",
      "\n",
      "\n",
      "----------------------------------------\n",
      "\n",
      "Started on epoch 90\n",
      "Loss on current epoch: 10.05611671909719\n",
      "Accuracy on train set 99.68\n",
      "Accuracy on validation set 92.21\n",
      "----------------------------------------\n",
      "\n"
     ]
    }
   ],
   "source": [
    "net = OperatorNet()\n",
    "\n",
    "criterion = nn.CrossEntropyLoss()\n",
    "optimizer = torch.optim.Adam(net.parameters(), lr = 0.00005)\n",
    "\n",
    "epochs = 100\n",
    "eval_every = 10\n",
    "\n",
    "for e in range(epochs): \n",
    "    running_loss = 0\n",
    "    \n",
    "    for images, labels in iter(train_loader):\n",
    "        \n",
    "        images.resize_(images.size()[0], 1024)\n",
    "        optimizer.zero_grad()\n",
    "        \n",
    "        output = net(images)\n",
    "        loss = criterion(output, labels)\n",
    "        loss.backward()\n",
    "        optimizer.step()\n",
    "        \n",
    "        running_loss += loss.item()\n",
    "        \n",
    "    if e % eval_every == 0:\n",
    "        print(\"\\n----------------------------------------\")\n",
    "        print(\"\\nStarted on epoch {}\".format(e))\n",
    "        print(\"Loss on current epoch: {}\".format(running_loss))\n",
    "        \n",
    "        accuracy_train = validate_on_dataloader(net, train_loader)\n",
    "        print(\"Accuracy on train set {}\".format(np.around(accuracy_train, 2)))\n",
    "        \n",
    "        accuracy_val = validate_on_dataloader(net, valid_loader)\n",
    "        print(\"Accuracy on validation set {}\".format(np.around(accuracy_val, 2)))\n",
    "        print(\"----------------------------------------\\n\")\n",
    "                \n",
    "        "
   ]
  },
  {
   "cell_type": "code",
   "execution_count": 8,
   "metadata": {},
   "outputs": [],
   "source": [
    "torch.save(net.state_dict(), \"./weights/acc_91_88.ckpt\")"
   ]
  },
  {
   "cell_type": "code",
   "execution_count": 32,
   "metadata": {},
   "outputs": [
    {
     "name": "stdout",
     "output_type": "stream",
     "text": [
      "Label: Plus\n",
      "Predicted: Plus\n"
     ]
    },
    {
     "data": {
      "image/png": "[encoded data removed]",
      "text/plain": [
       "<Figure size 432x288 with 1 Axes>"
      ]
     },
     "metadata": {
      "needs_background": "light"
     },
     "output_type": "display_data"
    }
   ],
   "source": [
    "label_map = {0: \"Plus\", 1: \"Minus\", 2: \"Multiplication\", 3: \"Divide\", 4: \"Equals\"}\n",
    "\n",
    "dataiter = iter(valid_loader)\n",
    "images, labels = dataiter.next()\n",
    "img_nr = np.random.randint(4, size = 1)\n",
    "img, label = images[img_nr], labels[img_nr]\n",
    "\n",
    "plt.imshow(img.resize(32,32), cmap = \"Greys\")\n",
    "print('Label:', label_map[label.item()])\n",
    "\n",
    "output = net(img.resize(1, 1024))\n",
    "pred = (F.softmax(output).data).max(1)[1]\n",
    "print('Predicted:', label_map[pred.item()])\n"
   ]
  },
  {
   "cell_type": "code",
   "execution_count": 30,
   "metadata": {},
   "outputs": [
    {
     "name": "stdout",
     "output_type": "stream",
     "text": [
      "The autoreload extension is already loaded. To reload it, use:\n",
      "  %reload_ext autoreload\n"
     ]
    }
   ],
   "source": [
    "%load_ext autoreload\n",
    "%autoreload 2"
   ]
  },
  {
   "cell_type": "code",
   "execution_count": 39,
   "metadata": {},
   "outputs": [
    {
     "name": "stdout",
     "output_type": "stream",
     "text": [
      "Predicted: Plus\n"
     ]
    },
    {
     "data": {
      "image/png": "[encoded data removed]",
      "text/plain": [
       "<Figure size 432x288 with 1 Axes>"
      ]
     },
     "metadata": {
      "needs_background": "light"
     },
     "output_type": "display_data"
    },
    {
     "name": "stdout",
     "output_type": "stream",
     "text": [
      "Predicted: Minus\n"
     ]
    },
    {
     "data": {
      "image/png": "[encoded data removed]",
      "text/plain": [
       "<Figure size 432x288 with 1 Axes>"
      ]
     },
     "metadata": {
      "needs_background": "light"
     },
     "output_type": "display_data"
    },
    {
     "name": "stdout",
     "output_type": "stream",
     "text": [
      "Predicted: Divide\n"
     ]
    },
    {
     "data": {
      "image/png": "[encoded data removed]",
      "text/plain": [
       "<Figure size 432x288 with 1 Axes>"
      ]
     },
     "metadata": {
      "needs_background": "light"
     },
     "output_type": "display_data"
    },
    {
     "name": "stdout",
     "output_type": "stream",
     "text": [
      "Predicted: Multiplication\n"
     ]
    },
    {
     "data": {
      "image/png": "[encoded data removed]",
      "text/plain": [
       "<Figure size 432x288 with 1 Axes>"
      ]
     },
     "metadata": {
      "needs_background": "light"
     },
     "output_type": "display_data"
    },
    {
     "name": "stdout",
     "output_type": "stream",
     "text": [
      "Predicted: Equals\n"
     ]
    },
    {
     "data": {
      "image/png": "[encoded data removed]",
      "text/plain": [
       "<Figure size 432x288 with 1 Axes>"
      ]
     },
     "metadata": {
      "needs_background": "light"
     },
     "output_type": "display_data"
    }
   ],
   "source": [
    "import time\n",
    "from importlib import reload\n",
    "from utils import get_operators_from_original\n",
    "reload(utils)\n",
    "\n",
    "op_tensors = get_operators_from_original()\n",
    "\n",
    "for image in op_tensors:\n",
    "    plt.imshow(image, cmap = \"Greys\")\n",
    "    output = net(image.resize(1, 1024))\n",
    "    pred = (F.softmax(output).data).max(1)[1]\n",
    "    print('Predicted:', label_map[pred.item()])\n",
    "    plt.show()\n",
    "    time.sleep(1)"
   ]
  },
  {
   "cell_type": "code",
   "execution_count": null,
   "metadata": {},
   "outputs": [],
   "source": []
  }
 ],
 "metadata": {
  "kernelspec": {
   "display_name": "Python 3",
   "language": "python",
   "name": "python3"
  },
  "language_info": {
   "codemirror_mode": {
    "name": "ipython",
    "version": 3
   },
   "file_extension": ".py",
   "mimetype": "text/x-python",
   "name": "python",
   "nbconvert_exporter": "python",
   "pygments_lexer": "ipython3",
   "version": "3.7.6"
  }
 },
 "nbformat": 4,
 "nbformat_minor": 4
}
