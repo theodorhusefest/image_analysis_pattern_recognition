{
 "cells": [
  {
   "cell_type": "code",
   "execution_count": 227,
   "metadata": {},
   "outputs": [],
   "source": [
    "import os\n",
    "import numpy as np\n",
    "import pandas as pd\n",
    "from skimage import io\n",
    "from PIL import Image\n",
    "from skimage.color import rgb2gray\n",
    "from skimage.transform import resize\n",
    "import matplotlib.pyplot as plt\n",
    "\n",
    "import torch\n",
    "import torch.nn as nn\n",
    "from torch.utils.data import Dataset, DataLoader\n",
    "from torch.utils.data.sampler import SubsetRandomSampler\n",
    "import torch.nn.functional as F\n",
    "from torchvision import transforms, utils"
   ]
  },
  {
   "cell_type": "code",
   "execution_count": 228,
   "metadata": {},
   "outputs": [],
   "source": [
    "class ToTensor(object):\n",
    "    \"\"\"Convert ndarrays in sample to Tensors.\"\"\"\n",
    "\n",
    "    def __call__(self, image):\n",
    "\n",
    "        # swap color axis because\n",
    "        # numpy image: H x W x C\n",
    "        # torch image: C X H X W\n",
    "        image = image.transpose((2, 0, 1))\n",
    "        return torch.from_numpy(image)\n",
    "\n",
    "        "
   ]
  },
  {
   "cell_type": "code",
   "execution_count": 229,
   "metadata": {},
   "outputs": [],
   "source": [
    "class OperatorsDataset(Dataset):\n",
    "    \"\"\" Custom Dataset for Operators\"\"\"\n",
    "    \n",
    "    def __init__(self, root_dir, csv_file, transform = None, grayscale = True):\n",
    "        \n",
    "        self.root_dir = root_dir\n",
    "        self.dataframe = pd.read_csv(csv_file)\n",
    "        self.transform = transform\n",
    "        self.grayscale = grayscale\n",
    "        \n",
    "    def __len__(self):\n",
    "        return self.dataframe.shape[0]\n",
    "        \n",
    "    def __getitem__(self, idx):\n",
    "        if torch.is_tensor(idx):\n",
    "            idx = idx.tolist()\n",
    "            \n",
    "        img_name = os.path.join(self.root_dir, self.dataframe.loc[idx].path)\n",
    "        image = io.imread(img_name)\n",
    "\n",
    "        label = self.dataframe.loc[idx].label\n",
    "        \n",
    "        if self.transform:\n",
    "            sample = self.transform(image)\n",
    "        \n",
    "        if self.grayscale:\n",
    "            image = rgb2gray(image)\n",
    "        \n",
    "        image = image.astype(np.float32)\n",
    "        return (image, label)\n",
    "\n",
    "dataset = OperatorsDataset(\"./data/operators\", \"./data/operators/datasheet.csv\", transform = transforms.Compose([ToTensor()]))"
   ]
  },
  {
   "cell_type": "code",
   "execution_count": 230,
   "metadata": {},
   "outputs": [],
   "source": [
    "batch_size = 4\n",
    "valid_size = 0.2\n",
    "shuffle = True\n",
    "random_seed = 1\n",
    "num_workers = 0\n",
    "pin_memory = 1\n",
    "\n",
    "num_train = len(dataset)\n",
    "indices = list(range(num_train))\n",
    "split = int(np.floor(valid_size * num_train))\n",
    "\n",
    "if shuffle:\n",
    "    np.random.seed(random_seed)\n",
    "    np.random.shuffle(indices)\n",
    "\n",
    "train_idx, valid_idx = indices[split:], indices[:split]\n",
    "train_sampler = SubsetRandomSampler(train_idx)\n",
    "valid_sampler = SubsetRandomSampler(valid_idx)\n",
    "\n",
    "train_loader = torch.utils.data.DataLoader(\n",
    "    dataset, batch_size=batch_size, sampler=train_sampler,\n",
    "    num_workers=num_workers,\n",
    ")\n",
    "valid_loader = torch.utils.data.DataLoader(\n",
    "    dataset, batch_size=batch_size, sampler=valid_sampler,\n",
    "    num_workers=num_workers,\n",
    ")\n"
   ]
  },
  {
   "cell_type": "code",
   "execution_count": 231,
   "metadata": {},
   "outputs": [],
   "source": [
    "class OperatorNet(nn.Module):\n",
    "    def __init__(self):\n",
    "        \"\"\" Init \"\"\"\n",
    "        super().__init__()\n",
    "        self.fc1 = nn.Linear(32*32, 100)\n",
    "        self.fc2 = nn.Linear(100, 5)\n",
    "        \n",
    "    def forward(self, x):\n",
    "        x = F.relu(self.fc1(x))\n",
    "        x = self.fc2(x)\n",
    "        return x\n",
    "        \n",
    "    def predict(self, x):\n",
    "        x = self.forward(x)\n",
    "        return F.softmax(x)\n"
   ]
  },
  {
   "cell_type": "code",
   "execution_count": 232,
   "metadata": {},
   "outputs": [],
   "source": [
    "def validate_on_dataloader(net, dataloader):\n",
    "    \"\"\"\n",
    "    Returns accuracy on a given dataloader\n",
    "    \"\"\"\n",
    "    net.eval()\n",
    "    correct = 0\n",
    "    total = 0\n",
    "    with torch.no_grad():    \n",
    "        for images, labels in dataloader:\n",
    "\n",
    "            images.resize_(images.size()[0], 1024)\n",
    "\n",
    "            output = net(images)\n",
    "            predicted = (F.softmax(output).data).max(1)[1]\n",
    "            correct += (labels == predicted).sum().item()\n",
    "            total += labels.size(0)\n",
    "\n",
    "    return 100*(correct/total)"
   ]
  },
  {
   "cell_type": "code",
   "execution_count": 233,
   "metadata": {},
   "outputs": [
    {
     "name": "stdout",
     "output_type": "stream",
     "text": [
      "\n",
      "----------------------------------------\n",
      "\n",
      "Started on epoch 0\n",
      "Loss on current epoch: 390.3877424001694\n"
     ]
    },
    {
     "name": "stderr",
     "output_type": "stream",
     "text": [
      "/Users/theo/anaconda3/envs/iapr/lib/python3.7/site-packages/ipykernel_launcher.py:14: UserWarning: Implicit dimension choice for softmax has been deprecated. Change the call to include dim=X as an argument.\n",
      "  \n"
     ]
    },
    {
     "name": "stdout",
     "output_type": "stream",
     "text": [
      "Accuracy on train set 71.81\n",
      "Accuracy on validation set 70.99\n",
      "----------------------------------------\n",
      "\n",
      "\n",
      "----------------------------------------\n",
      "\n",
      "Started on epoch 10\n",
      "Loss on current epoch: 117.98741360753775\n",
      "Accuracy on train set 87.22\n",
      "Accuracy on validation set 86.69\n",
      "----------------------------------------\n",
      "\n",
      "\n",
      "----------------------------------------\n",
      "\n",
      "Started on epoch 20\n",
      "Loss on current epoch: 80.93988785240799\n",
      "Accuracy on train set 91.74\n",
      "Accuracy on validation set 89.08\n",
      "----------------------------------------\n",
      "\n",
      "\n",
      "----------------------------------------\n",
      "\n",
      "Started on epoch 30\n",
      "Loss on current epoch: 62.47345581650734\n",
      "Accuracy on train set 95.23\n",
      "Accuracy on validation set 92.15\n",
      "----------------------------------------\n",
      "\n",
      "\n",
      "----------------------------------------\n",
      "\n",
      "Started on epoch 40\n",
      "Loss on current epoch: 49.92151807527989\n",
      "Accuracy on train set 96.0\n",
      "Accuracy on validation set 91.47\n",
      "----------------------------------------\n",
      "\n",
      "\n",
      "----------------------------------------\n",
      "\n",
      "Started on epoch 50\n",
      "Loss on current epoch: 39.35477989667561\n",
      "Accuracy on train set 97.36\n",
      "Accuracy on validation set 93.86\n",
      "----------------------------------------\n",
      "\n",
      "\n",
      "----------------------------------------\n",
      "\n",
      "Started on epoch 60\n",
      "Loss on current epoch: 33.23464342451189\n",
      "Accuracy on train set 98.13\n",
      "Accuracy on validation set 93.17\n",
      "----------------------------------------\n",
      "\n",
      "\n",
      "----------------------------------------\n",
      "\n",
      "Started on epoch 70\n",
      "Loss on current epoch: 25.64236627734499\n",
      "Accuracy on train set 98.21\n",
      "Accuracy on validation set 92.49\n",
      "----------------------------------------\n",
      "\n",
      "\n",
      "----------------------------------------\n",
      "\n",
      "Started on epoch 80\n",
      "Loss on current epoch: 20.67055618169252\n",
      "Accuracy on train set 98.64\n",
      "Accuracy on validation set 93.17\n",
      "----------------------------------------\n",
      "\n",
      "\n",
      "----------------------------------------\n",
      "\n",
      "Started on epoch 90\n",
      "Loss on current epoch: 16.525641372893006\n",
      "Accuracy on train set 99.49\n",
      "Accuracy on validation set 93.86\n",
      "----------------------------------------\n",
      "\n"
     ]
    }
   ],
   "source": [
    "net = OperatorNet()\n",
    "\n",
    "criterion = nn.CrossEntropyLoss()\n",
    "optimizer = torch.optim.Adam(net.parameters(), lr = 0.00005)\n",
    "\n",
    "epochs = 100\n",
    "eval_every = 10\n",
    "\n",
    "for e in range(epochs): \n",
    "    running_loss = 0\n",
    "    \n",
    "    for images, labels in iter(train_loader):\n",
    "        \n",
    "        images.resize_(images.size()[0], 1024)\n",
    "        optimizer.zero_grad()\n",
    "        \n",
    "        output = net(images)\n",
    "        loss = criterion(output, labels)\n",
    "        loss.backward()\n",
    "        optimizer.step()\n",
    "        \n",
    "        running_loss += loss.item()\n",
    "        \n",
    "    if e % eval_every == 0:\n",
    "        print(\"\\n----------------------------------------\")\n",
    "        print(\"\\nStarted on epoch {}\".format(e))\n",
    "        print(\"Loss on current epoch: {}\".format(running_loss))\n",
    "        \n",
    "        accuracy_train = validate_on_dataloader(net, train_loader)\n",
    "        print(\"Accuracy on train set {}\".format(np.around(accuracy_train, 2)))\n",
    "        \n",
    "        accuracy_val = validate_on_dataloader(net, valid_loader)\n",
    "        print(\"Accuracy on validation set {}\".format(np.around(accuracy_val, 2)))\n",
    "        print(\"----------------------------------------\\n\")\n",
    "                \n",
    "        "
   ]
  },
  {
   "cell_type": "code",
   "execution_count": 238,
   "metadata": {},
   "outputs": [
    {
     "name": "stdout",
     "output_type": "stream",
     "text": [
      "Label: Equals\n",
      "Predicted: Equals\n"
     ]
    },
    {
     "name": "stderr",
     "output_type": "stream",
     "text": [
      "/Users/theo/anaconda3/envs/iapr/lib/python3.7/site-packages/ipykernel_launcher.py:12: UserWarning: Implicit dimension choice for softmax has been deprecated. Change the call to include dim=X as an argument.\n",
      "  if sys.path[0] == '':\n"
     ]
    },
    {
     "data": {
      "image/png": "[encoded data removed]",
      "text/plain": [
       "<Figure size 432x288 with 1 Axes>"
      ]
     },
     "metadata": {
      "needs_background": "light"
     },
     "output_type": "display_data"
    }
   ],
   "source": [
    "label_map = {0: \"Plus\", 1: \"Minus\", 2: \"Multiplication\", 3: \"Divide\", 4: \"Equals\"}\n",
    "\n",
    "dataiter = iter(valid_loader)\n",
    "images, labels = dataiter.next()\n",
    "img_nr = np.random.randint(4, size = 1)\n",
    "img, label = images[img_nr], labels[img_nr]\n",
    "\n",
    "plt.imshow(img.resize(32,32), cmap = \"Greys\")\n",
    "print('Label:', label_map[label.item()])\n",
    "\n",
    "output = net(img.resize(1, 1024))\n",
    "pred = (F.softmax(output).data).max(1)[1]\n",
    "print('Predicted:', label_map[pred.item()])\n"
   ]
  },
  {
   "cell_type": "code",
   "execution_count": 239,
   "metadata": {},
   "outputs": [
    {
     "data": {
      "text/plain": [
       "<matplotlib.image.AxesImage at 0x1a33a3c910>"
      ]
     },
     "execution_count": 239,
     "metadata": {},
     "output_type": "execute_result"
    },
    {
     "data": {
      "image/png": "[encoded data removed]",
      "text/plain": [
       "<Figure size 432x288 with 1 Axes>"
      ]
     },
     "metadata": {
      "needs_background": "light"
     },
     "output_type": "display_data"
    }
   ],
   "source": [
    "operators = Image.open(\"./data/original_operators.png\")\n",
    "img = np.asarray(operators)\n",
    "img_grey = rgb2gray(img)\n",
    "plt.imshow(img_grey, cmap = \"Greys\")\n",
    "def extract_operators(img):\n",
    "    N = 316\n",
    "    plus = img[:, 0:N]\n",
    "    equals = img[:, N:2*N]\n",
    "    min_offset = 75\n",
    "    minus = img[:, 2*N + min_offset :3*N + min_offset]\n",
    "    div_offset = 125\n",
    "    div = img[:, 3*N + div_offset:4*N + div_offset]\n",
    "    mul_offset = 155\n",
    "    mul = img[:, 4*N + mul_offset:-1]\n",
    "    return [plus, minus, div, mul, equals]\n",
    "operators = extract_operators(img_grey)\n",
    "\n",
    "operators = [resize(operators[i], (32, 32)) for i in range(len(operators))]\n",
    "plt.imshow(operators[0], cmap = \"Greys\")"
   ]
  },
  {
   "cell_type": "code",
   "execution_count": 226,
   "metadata": {},
   "outputs": [],
   "source": [
    "from matplotlib import cm\n",
    "\n",
    "i = 0\n",
    "for operator in operators:\n",
    "    im = Image.fromarray(np.uint8(cm.gist_earth(operator)*255))\n",
    "    im.save(\"./data/im{}.png\".format(str(i)))\n",
    "    i += 1\n",
    "\n"
   ]
  },
  {
   "cell_type": "code",
   "execution_count": 248,
   "metadata": {},
   "outputs": [
    {
     "data": {
      "text/plain": [
       "<matplotlib.image.AxesImage at 0x630602f50>"
      ]
     },
     "execution_count": 248,
     "metadata": {},
     "output_type": "execute_result"
    },
    {
     "data": {
      "image/png": "[encoded data removed]",
      "text/plain": [
       "<Figure size 432x288 with 1 Axes>"
      ]
     },
     "metadata": {
      "needs_background": "light"
     },
     "output_type": "display_data"
    }
   ],
   "source": [
    "op_tensors = [torch.from_numpy(operators[i].astype(np.float32)) for i in range(len(operators))]\n",
    "plt.imshow(op_tensors[1])"
   ]
  },
  {
   "cell_type": "code",
   "execution_count": 247,
   "metadata": {},
   "outputs": [
    {
     "name": "stdout",
     "output_type": "stream",
     "text": [
      "Predicted: Minus\n"
     ]
    },
    {
     "name": "stderr",
     "output_type": "stream",
     "text": [
      "/Users/theo/anaconda3/envs/iapr/lib/python3.7/site-packages/ipykernel_launcher.py:2: UserWarning: Implicit dimension choice for softmax has been deprecated. Change the call to include dim=X as an argument.\n",
      "  \n"
     ]
    }
   ],
   "source": [
    "output = net(op_tensors[1].resize(1, 1024))\n",
    "pred = (F.softmax(output).data).max(1)[1]\n",
    "print('Predicted:', label_map[pred.item()])"
   ]
  },
  {
   "cell_type": "code",
   "execution_count": null,
   "metadata": {},
   "outputs": [],
   "source": []
  }
 ],
 "metadata": {
  "kernelspec": {
   "display_name": "Python 3",
   "language": "python",
   "name": "python3"
  },
  "language_info": {
   "codemirror_mode": {
    "name": "ipython",
    "version": 3
   },
   "file_extension": ".py",
   "mimetype": "text/x-python",
   "name": "python",
   "nbconvert_exporter": "python",
   "pygments_lexer": "ipython3",
   "version": "3.7.6"
  }
 },
 "nbformat": 4,
 "nbformat_minor": 4
}
